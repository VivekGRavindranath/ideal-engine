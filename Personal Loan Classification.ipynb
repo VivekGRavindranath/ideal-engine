{
 "cells": [
  {
   "cell_type": "code",
   "execution_count": 1,
   "metadata": {},
   "outputs": [],
   "source": [
    "# Importing the required packages"
   ]
  },
  {
   "cell_type": "code",
   "execution_count": 2,
   "metadata": {},
   "outputs": [],
   "source": [
    "import numpy as np\n",
    "import pandas as pd\n",
    "import matplotlib.pyplot as plt\n",
    "import seaborn as sns\n",
    "from sklearn.model_selection import train_test_split, GridSearchCV, KFold\n",
    "from sklearn import metrics, preprocessing\n",
    "from sklearn.linear_model import LogisticRegression\n",
    "from sklearn.neighbors import KNeighborsClassifier\n",
    "from sklearn.tree import DecisionTreeClassifier\n",
    "from sklearn.naive_bayes import GaussianNB, BernoulliNB, MultinomialNB\n",
    "from sklearn.svm import SVC\n",
    "from sklearn.ensemble import RandomForestClassifier"
   ]
  },
  {
   "cell_type": "code",
   "execution_count": 3,
   "metadata": {},
   "outputs": [],
   "source": [
    "# Loading the required dataset"
   ]
  },
  {
   "cell_type": "code",
   "execution_count": 4,
   "metadata": {},
   "outputs": [],
   "source": [
    "data = pd.read_csv('PL_XSELL.csv')"
   ]
  },
  {
   "cell_type": "code",
   "execution_count": 5,
   "metadata": {},
   "outputs": [
    {
     "data": {
      "text/html": [
       "<div>\n",
       "<style scoped>\n",
       "    .dataframe tbody tr th:only-of-type {\n",
       "        vertical-align: middle;\n",
       "    }\n",
       "\n",
       "    .dataframe tbody tr th {\n",
       "        vertical-align: top;\n",
       "    }\n",
       "\n",
       "    .dataframe thead th {\n",
       "        text-align: right;\n",
       "    }\n",
       "</style>\n",
       "<table border=\"1\" class=\"dataframe\">\n",
       "  <thead>\n",
       "    <tr style=\"text-align: right;\">\n",
       "      <th></th>\n",
       "      <th>CUST_ID</th>\n",
       "      <th>TARGET</th>\n",
       "      <th>AGE</th>\n",
       "      <th>GENDER</th>\n",
       "      <th>BALANCE</th>\n",
       "      <th>OCCUPATION</th>\n",
       "      <th>AGE_BKT</th>\n",
       "      <th>SCR</th>\n",
       "      <th>HOLDING_PERIOD</th>\n",
       "      <th>ACC_TYPE</th>\n",
       "      <th>...</th>\n",
       "      <th>NO_OF_IW_CHQ_BNC_TXNS</th>\n",
       "      <th>NO_OF_OW_CHQ_BNC_TXNS</th>\n",
       "      <th>AVG_AMT_PER_ATM_TXN</th>\n",
       "      <th>AVG_AMT_PER_CSH_WDL_TXN</th>\n",
       "      <th>AVG_AMT_PER_CHQ_TXN</th>\n",
       "      <th>AVG_AMT_PER_NET_TXN</th>\n",
       "      <th>AVG_AMT_PER_MOB_TXN</th>\n",
       "      <th>FLG_HAS_NOMINEE</th>\n",
       "      <th>FLG_HAS_OLD_LOAN</th>\n",
       "      <th>random</th>\n",
       "    </tr>\n",
       "  </thead>\n",
       "  <tbody>\n",
       "    <tr>\n",
       "      <th>0</th>\n",
       "      <td>C7927</td>\n",
       "      <td>0</td>\n",
       "      <td>27</td>\n",
       "      <td>M</td>\n",
       "      <td>3383.75</td>\n",
       "      <td>SELF-EMP</td>\n",
       "      <td>26-30</td>\n",
       "      <td>776</td>\n",
       "      <td>30</td>\n",
       "      <td>SA</td>\n",
       "      <td>...</td>\n",
       "      <td>0</td>\n",
       "      <td>0</td>\n",
       "      <td>13100.0</td>\n",
       "      <td>0.0</td>\n",
       "      <td>0.0</td>\n",
       "      <td>486778.50</td>\n",
       "      <td>0.0</td>\n",
       "      <td>1</td>\n",
       "      <td>1</td>\n",
       "      <td>0.000011</td>\n",
       "    </tr>\n",
       "    <tr>\n",
       "      <th>1</th>\n",
       "      <td>C6877</td>\n",
       "      <td>0</td>\n",
       "      <td>47</td>\n",
       "      <td>M</td>\n",
       "      <td>287489.04</td>\n",
       "      <td>SAL</td>\n",
       "      <td>46-50</td>\n",
       "      <td>324</td>\n",
       "      <td>28</td>\n",
       "      <td>SA</td>\n",
       "      <td>...</td>\n",
       "      <td>0</td>\n",
       "      <td>0</td>\n",
       "      <td>6600.0</td>\n",
       "      <td>0.0</td>\n",
       "      <td>0.0</td>\n",
       "      <td>799813.00</td>\n",
       "      <td>0.0</td>\n",
       "      <td>1</td>\n",
       "      <td>0</td>\n",
       "      <td>0.000111</td>\n",
       "    </tr>\n",
       "    <tr>\n",
       "      <th>2</th>\n",
       "      <td>C19922</td>\n",
       "      <td>0</td>\n",
       "      <td>40</td>\n",
       "      <td>M</td>\n",
       "      <td>18216.88</td>\n",
       "      <td>SELF-EMP</td>\n",
       "      <td>36-40</td>\n",
       "      <td>603</td>\n",
       "      <td>2</td>\n",
       "      <td>SA</td>\n",
       "      <td>...</td>\n",
       "      <td>0</td>\n",
       "      <td>1</td>\n",
       "      <td>11200.0</td>\n",
       "      <td>561120.0</td>\n",
       "      <td>24660.0</td>\n",
       "      <td>997570.00</td>\n",
       "      <td>0.0</td>\n",
       "      <td>1</td>\n",
       "      <td>1</td>\n",
       "      <td>0.000120</td>\n",
       "    </tr>\n",
       "    <tr>\n",
       "      <th>3</th>\n",
       "      <td>C8183</td>\n",
       "      <td>0</td>\n",
       "      <td>53</td>\n",
       "      <td>M</td>\n",
       "      <td>71720.48</td>\n",
       "      <td>SAL</td>\n",
       "      <td>&gt;50</td>\n",
       "      <td>196</td>\n",
       "      <td>13</td>\n",
       "      <td>CA</td>\n",
       "      <td>...</td>\n",
       "      <td>0</td>\n",
       "      <td>0</td>\n",
       "      <td>13050.0</td>\n",
       "      <td>168397.5</td>\n",
       "      <td>15195.0</td>\n",
       "      <td>247168.67</td>\n",
       "      <td>71388.0</td>\n",
       "      <td>1</td>\n",
       "      <td>0</td>\n",
       "      <td>0.000137</td>\n",
       "    </tr>\n",
       "    <tr>\n",
       "      <th>4</th>\n",
       "      <td>C12123</td>\n",
       "      <td>0</td>\n",
       "      <td>36</td>\n",
       "      <td>M</td>\n",
       "      <td>1671622.89</td>\n",
       "      <td>PROF</td>\n",
       "      <td>36-40</td>\n",
       "      <td>167</td>\n",
       "      <td>24</td>\n",
       "      <td>SA</td>\n",
       "      <td>...</td>\n",
       "      <td>0</td>\n",
       "      <td>0</td>\n",
       "      <td>0.0</td>\n",
       "      <td>808480.0</td>\n",
       "      <td>0.0</td>\n",
       "      <td>0.00</td>\n",
       "      <td>0.0</td>\n",
       "      <td>1</td>\n",
       "      <td>0</td>\n",
       "      <td>0.000174</td>\n",
       "    </tr>\n",
       "  </tbody>\n",
       "</table>\n",
       "<p>5 rows × 40 columns</p>\n",
       "</div>"
      ],
      "text/plain": [
       "  CUST_ID  TARGET  AGE GENDER     BALANCE OCCUPATION AGE_BKT  SCR  \\\n",
       "0   C7927       0   27      M     3383.75   SELF-EMP   26-30  776   \n",
       "1   C6877       0   47      M   287489.04        SAL   46-50  324   \n",
       "2  C19922       0   40      M    18216.88   SELF-EMP   36-40  603   \n",
       "3   C8183       0   53      M    71720.48        SAL     >50  196   \n",
       "4  C12123       0   36      M  1671622.89       PROF   36-40  167   \n",
       "\n",
       "   HOLDING_PERIOD ACC_TYPE    ...    NO_OF_IW_CHQ_BNC_TXNS  \\\n",
       "0              30       SA    ...                        0   \n",
       "1              28       SA    ...                        0   \n",
       "2               2       SA    ...                        0   \n",
       "3              13       CA    ...                        0   \n",
       "4              24       SA    ...                        0   \n",
       "\n",
       "   NO_OF_OW_CHQ_BNC_TXNS  AVG_AMT_PER_ATM_TXN  AVG_AMT_PER_CSH_WDL_TXN  \\\n",
       "0                      0              13100.0                      0.0   \n",
       "1                      0               6600.0                      0.0   \n",
       "2                      1              11200.0                 561120.0   \n",
       "3                      0              13050.0                 168397.5   \n",
       "4                      0                  0.0                 808480.0   \n",
       "\n",
       "   AVG_AMT_PER_CHQ_TXN  AVG_AMT_PER_NET_TXN  AVG_AMT_PER_MOB_TXN  \\\n",
       "0                  0.0            486778.50                  0.0   \n",
       "1                  0.0            799813.00                  0.0   \n",
       "2              24660.0            997570.00                  0.0   \n",
       "3              15195.0            247168.67              71388.0   \n",
       "4                  0.0                 0.00                  0.0   \n",
       "\n",
       "   FLG_HAS_NOMINEE  FLG_HAS_OLD_LOAN    random  \n",
       "0                1                 1  0.000011  \n",
       "1                1                 0  0.000111  \n",
       "2                1                 1  0.000120  \n",
       "3                1                 0  0.000137  \n",
       "4                1                 0  0.000174  \n",
       "\n",
       "[5 rows x 40 columns]"
      ]
     },
     "execution_count": 5,
     "metadata": {},
     "output_type": "execute_result"
    }
   ],
   "source": [
    "data.head()"
   ]
  },
  {
   "cell_type": "code",
   "execution_count": 6,
   "metadata": {},
   "outputs": [
    {
     "data": {
      "text/plain": [
       "CUST_ID                      object\n",
       "TARGET                        int64\n",
       "AGE                           int64\n",
       "GENDER                       object\n",
       "BALANCE                     float64\n",
       "OCCUPATION                   object\n",
       "AGE_BKT                      object\n",
       "SCR                           int64\n",
       "HOLDING_PERIOD                int64\n",
       "ACC_TYPE                     object\n",
       "ACC_OP_DATE                  object\n",
       "LEN_OF_RLTN_IN_MNTH           int64\n",
       "NO_OF_L_CR_TXNS               int64\n",
       "NO_OF_L_DR_TXNS               int64\n",
       "TOT_NO_OF_L_TXNS              int64\n",
       "NO_OF_BR_CSH_WDL_DR_TXNS      int64\n",
       "NO_OF_ATM_DR_TXNS             int64\n",
       "NO_OF_NET_DR_TXNS             int64\n",
       "NO_OF_MOB_DR_TXNS             int64\n",
       "NO_OF_CHQ_DR_TXNS             int64\n",
       "FLG_HAS_CC                    int64\n",
       "AMT_ATM_DR                    int64\n",
       "AMT_BR_CSH_WDL_DR             int64\n",
       "AMT_CHQ_DR                    int64\n",
       "AMT_NET_DR                  float64\n",
       "AMT_MOB_DR                    int64\n",
       "AMT_L_DR                    float64\n",
       "FLG_HAS_ANY_CHGS              int64\n",
       "AMT_OTH_BK_ATM_USG_CHGS       int64\n",
       "AMT_MIN_BAL_NMC_CHGS          int64\n",
       "NO_OF_IW_CHQ_BNC_TXNS         int64\n",
       "NO_OF_OW_CHQ_BNC_TXNS         int64\n",
       "AVG_AMT_PER_ATM_TXN         float64\n",
       "AVG_AMT_PER_CSH_WDL_TXN     float64\n",
       "AVG_AMT_PER_CHQ_TXN         float64\n",
       "AVG_AMT_PER_NET_TXN         float64\n",
       "AVG_AMT_PER_MOB_TXN         float64\n",
       "FLG_HAS_NOMINEE               int64\n",
       "FLG_HAS_OLD_LOAN              int64\n",
       "random                      float64\n",
       "dtype: object"
      ]
     },
     "execution_count": 6,
     "metadata": {},
     "output_type": "execute_result"
    }
   ],
   "source": [
    "data.dtypes"
   ]
  },
  {
   "cell_type": "code",
   "execution_count": 7,
   "metadata": {},
   "outputs": [
    {
     "data": {
      "text/html": [
       "<div>\n",
       "<style scoped>\n",
       "    .dataframe tbody tr th:only-of-type {\n",
       "        vertical-align: middle;\n",
       "    }\n",
       "\n",
       "    .dataframe tbody tr th {\n",
       "        vertical-align: top;\n",
       "    }\n",
       "\n",
       "    .dataframe thead th {\n",
       "        text-align: right;\n",
       "    }\n",
       "</style>\n",
       "<table border=\"1\" class=\"dataframe\">\n",
       "  <thead>\n",
       "    <tr style=\"text-align: right;\">\n",
       "      <th></th>\n",
       "      <th>count</th>\n",
       "      <th>mean</th>\n",
       "      <th>std</th>\n",
       "      <th>min</th>\n",
       "      <th>25%</th>\n",
       "      <th>50%</th>\n",
       "      <th>75%</th>\n",
       "      <th>max</th>\n",
       "    </tr>\n",
       "  </thead>\n",
       "  <tbody>\n",
       "    <tr>\n",
       "      <th>TARGET</th>\n",
       "      <td>20000.0</td>\n",
       "      <td>0.125600</td>\n",
       "      <td>0.331406</td>\n",
       "      <td>0.000000</td>\n",
       "      <td>0.000000</td>\n",
       "      <td>0.000000</td>\n",
       "      <td>0.000000e+00</td>\n",
       "      <td>1.000000e+00</td>\n",
       "    </tr>\n",
       "    <tr>\n",
       "      <th>AGE</th>\n",
       "      <td>20000.0</td>\n",
       "      <td>38.418150</td>\n",
       "      <td>9.577985</td>\n",
       "      <td>21.000000</td>\n",
       "      <td>30.000000</td>\n",
       "      <td>38.000000</td>\n",
       "      <td>4.600000e+01</td>\n",
       "      <td>5.500000e+01</td>\n",
       "    </tr>\n",
       "    <tr>\n",
       "      <th>BALANCE</th>\n",
       "      <td>20000.0</td>\n",
       "      <td>511362.192118</td>\n",
       "      <td>723592.961792</td>\n",
       "      <td>0.000000</td>\n",
       "      <td>64754.025000</td>\n",
       "      <td>231675.845000</td>\n",
       "      <td>6.538768e+05</td>\n",
       "      <td>8.360431e+06</td>\n",
       "    </tr>\n",
       "    <tr>\n",
       "      <th>SCR</th>\n",
       "      <td>20000.0</td>\n",
       "      <td>440.150300</td>\n",
       "      <td>249.887582</td>\n",
       "      <td>100.000000</td>\n",
       "      <td>227.000000</td>\n",
       "      <td>364.000000</td>\n",
       "      <td>6.440000e+02</td>\n",
       "      <td>9.990000e+02</td>\n",
       "    </tr>\n",
       "    <tr>\n",
       "      <th>HOLDING_PERIOD</th>\n",
       "      <td>20000.0</td>\n",
       "      <td>14.955650</td>\n",
       "      <td>8.642634</td>\n",
       "      <td>1.000000</td>\n",
       "      <td>7.000000</td>\n",
       "      <td>15.000000</td>\n",
       "      <td>2.200000e+01</td>\n",
       "      <td>3.100000e+01</td>\n",
       "    </tr>\n",
       "    <tr>\n",
       "      <th>LEN_OF_RLTN_IN_MNTH</th>\n",
       "      <td>20000.0</td>\n",
       "      <td>125.239300</td>\n",
       "      <td>54.953936</td>\n",
       "      <td>29.000000</td>\n",
       "      <td>79.000000</td>\n",
       "      <td>125.000000</td>\n",
       "      <td>1.720000e+02</td>\n",
       "      <td>2.210000e+02</td>\n",
       "    </tr>\n",
       "    <tr>\n",
       "      <th>NO_OF_L_CR_TXNS</th>\n",
       "      <td>20000.0</td>\n",
       "      <td>12.348050</td>\n",
       "      <td>12.151921</td>\n",
       "      <td>0.000000</td>\n",
       "      <td>6.000000</td>\n",
       "      <td>10.000000</td>\n",
       "      <td>1.400000e+01</td>\n",
       "      <td>7.500000e+01</td>\n",
       "    </tr>\n",
       "    <tr>\n",
       "      <th>NO_OF_L_DR_TXNS</th>\n",
       "      <td>20000.0</td>\n",
       "      <td>6.633700</td>\n",
       "      <td>7.675830</td>\n",
       "      <td>0.000000</td>\n",
       "      <td>2.000000</td>\n",
       "      <td>5.000000</td>\n",
       "      <td>7.000000e+00</td>\n",
       "      <td>7.400000e+01</td>\n",
       "    </tr>\n",
       "    <tr>\n",
       "      <th>TOT_NO_OF_L_TXNS</th>\n",
       "      <td>20000.0</td>\n",
       "      <td>18.975400</td>\n",
       "      <td>17.759290</td>\n",
       "      <td>0.000000</td>\n",
       "      <td>9.000000</td>\n",
       "      <td>14.000000</td>\n",
       "      <td>2.100000e+01</td>\n",
       "      <td>1.490000e+02</td>\n",
       "    </tr>\n",
       "    <tr>\n",
       "      <th>NO_OF_BR_CSH_WDL_DR_TXNS</th>\n",
       "      <td>20000.0</td>\n",
       "      <td>1.883000</td>\n",
       "      <td>2.263596</td>\n",
       "      <td>0.000000</td>\n",
       "      <td>1.000000</td>\n",
       "      <td>1.000000</td>\n",
       "      <td>2.000000e+00</td>\n",
       "      <td>1.500000e+01</td>\n",
       "    </tr>\n",
       "    <tr>\n",
       "      <th>NO_OF_ATM_DR_TXNS</th>\n",
       "      <td>20000.0</td>\n",
       "      <td>1.028950</td>\n",
       "      <td>1.497239</td>\n",
       "      <td>0.000000</td>\n",
       "      <td>0.000000</td>\n",
       "      <td>1.000000</td>\n",
       "      <td>1.000000e+00</td>\n",
       "      <td>2.500000e+01</td>\n",
       "    </tr>\n",
       "    <tr>\n",
       "      <th>NO_OF_NET_DR_TXNS</th>\n",
       "      <td>20000.0</td>\n",
       "      <td>1.172450</td>\n",
       "      <td>2.404246</td>\n",
       "      <td>0.000000</td>\n",
       "      <td>0.000000</td>\n",
       "      <td>0.000000</td>\n",
       "      <td>1.000000e+00</td>\n",
       "      <td>2.200000e+01</td>\n",
       "    </tr>\n",
       "    <tr>\n",
       "      <th>NO_OF_MOB_DR_TXNS</th>\n",
       "      <td>20000.0</td>\n",
       "      <td>0.411750</td>\n",
       "      <td>2.009854</td>\n",
       "      <td>0.000000</td>\n",
       "      <td>0.000000</td>\n",
       "      <td>0.000000</td>\n",
       "      <td>0.000000e+00</td>\n",
       "      <td>2.500000e+01</td>\n",
       "    </tr>\n",
       "    <tr>\n",
       "      <th>NO_OF_CHQ_DR_TXNS</th>\n",
       "      <td>20000.0</td>\n",
       "      <td>2.137550</td>\n",
       "      <td>2.384893</td>\n",
       "      <td>0.000000</td>\n",
       "      <td>0.000000</td>\n",
       "      <td>2.000000</td>\n",
       "      <td>4.000000e+00</td>\n",
       "      <td>1.500000e+01</td>\n",
       "    </tr>\n",
       "    <tr>\n",
       "      <th>FLG_HAS_CC</th>\n",
       "      <td>20000.0</td>\n",
       "      <td>0.305400</td>\n",
       "      <td>0.460588</td>\n",
       "      <td>0.000000</td>\n",
       "      <td>0.000000</td>\n",
       "      <td>0.000000</td>\n",
       "      <td>1.000000e+00</td>\n",
       "      <td>1.000000e+00</td>\n",
       "    </tr>\n",
       "    <tr>\n",
       "      <th>AMT_ATM_DR</th>\n",
       "      <td>20000.0</td>\n",
       "      <td>10990.015000</td>\n",
       "      <td>15304.891499</td>\n",
       "      <td>0.000000</td>\n",
       "      <td>0.000000</td>\n",
       "      <td>6900.000000</td>\n",
       "      <td>1.580000e+04</td>\n",
       "      <td>1.993000e+05</td>\n",
       "    </tr>\n",
       "    <tr>\n",
       "      <th>AMT_BR_CSH_WDL_DR</th>\n",
       "      <td>20000.0</td>\n",
       "      <td>378474.478000</td>\n",
       "      <td>331417.730129</td>\n",
       "      <td>0.000000</td>\n",
       "      <td>2990.000000</td>\n",
       "      <td>340150.000000</td>\n",
       "      <td>6.746750e+05</td>\n",
       "      <td>9.999300e+05</td>\n",
       "    </tr>\n",
       "    <tr>\n",
       "      <th>AMT_CHQ_DR</th>\n",
       "      <td>20000.0</td>\n",
       "      <td>124520.005150</td>\n",
       "      <td>439379.541425</td>\n",
       "      <td>0.000000</td>\n",
       "      <td>0.000000</td>\n",
       "      <td>23840.000000</td>\n",
       "      <td>7.247000e+04</td>\n",
       "      <td>4.928640e+06</td>\n",
       "    </tr>\n",
       "    <tr>\n",
       "      <th>AMT_NET_DR</th>\n",
       "      <td>20000.0</td>\n",
       "      <td>237307.771646</td>\n",
       "      <td>319067.664858</td>\n",
       "      <td>0.000000</td>\n",
       "      <td>0.000000</td>\n",
       "      <td>0.000000</td>\n",
       "      <td>4.739705e+05</td>\n",
       "      <td>9.998540e+05</td>\n",
       "    </tr>\n",
       "    <tr>\n",
       "      <th>AMT_MOB_DR</th>\n",
       "      <td>20000.0</td>\n",
       "      <td>22424.704400</td>\n",
       "      <td>49484.803631</td>\n",
       "      <td>0.000000</td>\n",
       "      <td>0.000000</td>\n",
       "      <td>0.000000</td>\n",
       "      <td>0.000000e+00</td>\n",
       "      <td>1.996670e+05</td>\n",
       "    </tr>\n",
       "    <tr>\n",
       "      <th>AMT_L_DR</th>\n",
       "      <td>20000.0</td>\n",
       "      <td>773716.974195</td>\n",
       "      <td>712659.173217</td>\n",
       "      <td>0.000000</td>\n",
       "      <td>237935.500000</td>\n",
       "      <td>695115.000000</td>\n",
       "      <td>1.078927e+06</td>\n",
       "      <td>6.514921e+06</td>\n",
       "    </tr>\n",
       "    <tr>\n",
       "      <th>FLG_HAS_ANY_CHGS</th>\n",
       "      <td>20000.0</td>\n",
       "      <td>0.110600</td>\n",
       "      <td>0.313644</td>\n",
       "      <td>0.000000</td>\n",
       "      <td>0.000000</td>\n",
       "      <td>0.000000</td>\n",
       "      <td>0.000000e+00</td>\n",
       "      <td>1.000000e+00</td>\n",
       "    </tr>\n",
       "    <tr>\n",
       "      <th>AMT_OTH_BK_ATM_USG_CHGS</th>\n",
       "      <td>20000.0</td>\n",
       "      <td>1.099500</td>\n",
       "      <td>14.219220</td>\n",
       "      <td>0.000000</td>\n",
       "      <td>0.000000</td>\n",
       "      <td>0.000000</td>\n",
       "      <td>0.000000e+00</td>\n",
       "      <td>2.500000e+02</td>\n",
       "    </tr>\n",
       "    <tr>\n",
       "      <th>AMT_MIN_BAL_NMC_CHGS</th>\n",
       "      <td>20000.0</td>\n",
       "      <td>1.292000</td>\n",
       "      <td>14.764201</td>\n",
       "      <td>0.000000</td>\n",
       "      <td>0.000000</td>\n",
       "      <td>0.000000</td>\n",
       "      <td>0.000000e+00</td>\n",
       "      <td>1.700000e+02</td>\n",
       "    </tr>\n",
       "    <tr>\n",
       "      <th>NO_OF_IW_CHQ_BNC_TXNS</th>\n",
       "      <td>20000.0</td>\n",
       "      <td>0.042750</td>\n",
       "      <td>0.203038</td>\n",
       "      <td>0.000000</td>\n",
       "      <td>0.000000</td>\n",
       "      <td>0.000000</td>\n",
       "      <td>0.000000e+00</td>\n",
       "      <td>2.000000e+00</td>\n",
       "    </tr>\n",
       "    <tr>\n",
       "      <th>NO_OF_OW_CHQ_BNC_TXNS</th>\n",
       "      <td>20000.0</td>\n",
       "      <td>0.044400</td>\n",
       "      <td>0.206230</td>\n",
       "      <td>0.000000</td>\n",
       "      <td>0.000000</td>\n",
       "      <td>0.000000</td>\n",
       "      <td>0.000000e+00</td>\n",
       "      <td>2.000000e+00</td>\n",
       "    </tr>\n",
       "    <tr>\n",
       "      <th>AVG_AMT_PER_ATM_TXN</th>\n",
       "      <td>20000.0</td>\n",
       "      <td>7408.839731</td>\n",
       "      <td>7210.168619</td>\n",
       "      <td>0.000000</td>\n",
       "      <td>0.000000</td>\n",
       "      <td>6000.000000</td>\n",
       "      <td>1.350000e+04</td>\n",
       "      <td>2.500000e+04</td>\n",
       "    </tr>\n",
       "    <tr>\n",
       "      <th>AVG_AMT_PER_CSH_WDL_TXN</th>\n",
       "      <td>20000.0</td>\n",
       "      <td>242236.478811</td>\n",
       "      <td>269837.890598</td>\n",
       "      <td>0.000000</td>\n",
       "      <td>1265.450000</td>\n",
       "      <td>147095.000000</td>\n",
       "      <td>3.850000e+05</td>\n",
       "      <td>9.996400e+05</td>\n",
       "    </tr>\n",
       "    <tr>\n",
       "      <th>AVG_AMT_PER_CHQ_TXN</th>\n",
       "      <td>20000.0</td>\n",
       "      <td>25092.478384</td>\n",
       "      <td>49387.197536</td>\n",
       "      <td>0.000000</td>\n",
       "      <td>0.000000</td>\n",
       "      <td>8645.000000</td>\n",
       "      <td>2.860500e+04</td>\n",
       "      <td>5.378422e+05</td>\n",
       "    </tr>\n",
       "    <tr>\n",
       "      <th>AVG_AMT_PER_NET_TXN</th>\n",
       "      <td>20000.0</td>\n",
       "      <td>179059.029254</td>\n",
       "      <td>281706.855583</td>\n",
       "      <td>0.000000</td>\n",
       "      <td>0.000000</td>\n",
       "      <td>0.000000</td>\n",
       "      <td>2.576990e+05</td>\n",
       "      <td>9.998540e+05</td>\n",
       "    </tr>\n",
       "    <tr>\n",
       "      <th>AVG_AMT_PER_MOB_TXN</th>\n",
       "      <td>20000.0</td>\n",
       "      <td>20303.920406</td>\n",
       "      <td>46472.889982</td>\n",
       "      <td>0.000000</td>\n",
       "      <td>0.000000</td>\n",
       "      <td>0.000000</td>\n",
       "      <td>0.000000e+00</td>\n",
       "      <td>1.996670e+05</td>\n",
       "    </tr>\n",
       "    <tr>\n",
       "      <th>FLG_HAS_NOMINEE</th>\n",
       "      <td>20000.0</td>\n",
       "      <td>0.901150</td>\n",
       "      <td>0.298468</td>\n",
       "      <td>0.000000</td>\n",
       "      <td>1.000000</td>\n",
       "      <td>1.000000</td>\n",
       "      <td>1.000000e+00</td>\n",
       "      <td>1.000000e+00</td>\n",
       "    </tr>\n",
       "    <tr>\n",
       "      <th>FLG_HAS_OLD_LOAN</th>\n",
       "      <td>20000.0</td>\n",
       "      <td>0.492950</td>\n",
       "      <td>0.499963</td>\n",
       "      <td>0.000000</td>\n",
       "      <td>0.000000</td>\n",
       "      <td>0.000000</td>\n",
       "      <td>1.000000e+00</td>\n",
       "      <td>1.000000e+00</td>\n",
       "    </tr>\n",
       "    <tr>\n",
       "      <th>random</th>\n",
       "      <td>20000.0</td>\n",
       "      <td>0.501933</td>\n",
       "      <td>0.290762</td>\n",
       "      <td>0.000011</td>\n",
       "      <td>0.248187</td>\n",
       "      <td>0.506121</td>\n",
       "      <td>7.535712e-01</td>\n",
       "      <td>9.999471e-01</td>\n",
       "    </tr>\n",
       "  </tbody>\n",
       "</table>\n",
       "</div>"
      ],
      "text/plain": [
       "                            count           mean            std         min  \\\n",
       "TARGET                    20000.0       0.125600       0.331406    0.000000   \n",
       "AGE                       20000.0      38.418150       9.577985   21.000000   \n",
       "BALANCE                   20000.0  511362.192118  723592.961792    0.000000   \n",
       "SCR                       20000.0     440.150300     249.887582  100.000000   \n",
       "HOLDING_PERIOD            20000.0      14.955650       8.642634    1.000000   \n",
       "LEN_OF_RLTN_IN_MNTH       20000.0     125.239300      54.953936   29.000000   \n",
       "NO_OF_L_CR_TXNS           20000.0      12.348050      12.151921    0.000000   \n",
       "NO_OF_L_DR_TXNS           20000.0       6.633700       7.675830    0.000000   \n",
       "TOT_NO_OF_L_TXNS          20000.0      18.975400      17.759290    0.000000   \n",
       "NO_OF_BR_CSH_WDL_DR_TXNS  20000.0       1.883000       2.263596    0.000000   \n",
       "NO_OF_ATM_DR_TXNS         20000.0       1.028950       1.497239    0.000000   \n",
       "NO_OF_NET_DR_TXNS         20000.0       1.172450       2.404246    0.000000   \n",
       "NO_OF_MOB_DR_TXNS         20000.0       0.411750       2.009854    0.000000   \n",
       "NO_OF_CHQ_DR_TXNS         20000.0       2.137550       2.384893    0.000000   \n",
       "FLG_HAS_CC                20000.0       0.305400       0.460588    0.000000   \n",
       "AMT_ATM_DR                20000.0   10990.015000   15304.891499    0.000000   \n",
       "AMT_BR_CSH_WDL_DR         20000.0  378474.478000  331417.730129    0.000000   \n",
       "AMT_CHQ_DR                20000.0  124520.005150  439379.541425    0.000000   \n",
       "AMT_NET_DR                20000.0  237307.771646  319067.664858    0.000000   \n",
       "AMT_MOB_DR                20000.0   22424.704400   49484.803631    0.000000   \n",
       "AMT_L_DR                  20000.0  773716.974195  712659.173217    0.000000   \n",
       "FLG_HAS_ANY_CHGS          20000.0       0.110600       0.313644    0.000000   \n",
       "AMT_OTH_BK_ATM_USG_CHGS   20000.0       1.099500      14.219220    0.000000   \n",
       "AMT_MIN_BAL_NMC_CHGS      20000.0       1.292000      14.764201    0.000000   \n",
       "NO_OF_IW_CHQ_BNC_TXNS     20000.0       0.042750       0.203038    0.000000   \n",
       "NO_OF_OW_CHQ_BNC_TXNS     20000.0       0.044400       0.206230    0.000000   \n",
       "AVG_AMT_PER_ATM_TXN       20000.0    7408.839731    7210.168619    0.000000   \n",
       "AVG_AMT_PER_CSH_WDL_TXN   20000.0  242236.478811  269837.890598    0.000000   \n",
       "AVG_AMT_PER_CHQ_TXN       20000.0   25092.478384   49387.197536    0.000000   \n",
       "AVG_AMT_PER_NET_TXN       20000.0  179059.029254  281706.855583    0.000000   \n",
       "AVG_AMT_PER_MOB_TXN       20000.0   20303.920406   46472.889982    0.000000   \n",
       "FLG_HAS_NOMINEE           20000.0       0.901150       0.298468    0.000000   \n",
       "FLG_HAS_OLD_LOAN          20000.0       0.492950       0.499963    0.000000   \n",
       "random                    20000.0       0.501933       0.290762    0.000011   \n",
       "\n",
       "                                    25%            50%           75%  \\\n",
       "TARGET                         0.000000       0.000000  0.000000e+00   \n",
       "AGE                           30.000000      38.000000  4.600000e+01   \n",
       "BALANCE                    64754.025000  231675.845000  6.538768e+05   \n",
       "SCR                          227.000000     364.000000  6.440000e+02   \n",
       "HOLDING_PERIOD                 7.000000      15.000000  2.200000e+01   \n",
       "LEN_OF_RLTN_IN_MNTH           79.000000     125.000000  1.720000e+02   \n",
       "NO_OF_L_CR_TXNS                6.000000      10.000000  1.400000e+01   \n",
       "NO_OF_L_DR_TXNS                2.000000       5.000000  7.000000e+00   \n",
       "TOT_NO_OF_L_TXNS               9.000000      14.000000  2.100000e+01   \n",
       "NO_OF_BR_CSH_WDL_DR_TXNS       1.000000       1.000000  2.000000e+00   \n",
       "NO_OF_ATM_DR_TXNS              0.000000       1.000000  1.000000e+00   \n",
       "NO_OF_NET_DR_TXNS              0.000000       0.000000  1.000000e+00   \n",
       "NO_OF_MOB_DR_TXNS              0.000000       0.000000  0.000000e+00   \n",
       "NO_OF_CHQ_DR_TXNS              0.000000       2.000000  4.000000e+00   \n",
       "FLG_HAS_CC                     0.000000       0.000000  1.000000e+00   \n",
       "AMT_ATM_DR                     0.000000    6900.000000  1.580000e+04   \n",
       "AMT_BR_CSH_WDL_DR           2990.000000  340150.000000  6.746750e+05   \n",
       "AMT_CHQ_DR                     0.000000   23840.000000  7.247000e+04   \n",
       "AMT_NET_DR                     0.000000       0.000000  4.739705e+05   \n",
       "AMT_MOB_DR                     0.000000       0.000000  0.000000e+00   \n",
       "AMT_L_DR                  237935.500000  695115.000000  1.078927e+06   \n",
       "FLG_HAS_ANY_CHGS               0.000000       0.000000  0.000000e+00   \n",
       "AMT_OTH_BK_ATM_USG_CHGS        0.000000       0.000000  0.000000e+00   \n",
       "AMT_MIN_BAL_NMC_CHGS           0.000000       0.000000  0.000000e+00   \n",
       "NO_OF_IW_CHQ_BNC_TXNS          0.000000       0.000000  0.000000e+00   \n",
       "NO_OF_OW_CHQ_BNC_TXNS          0.000000       0.000000  0.000000e+00   \n",
       "AVG_AMT_PER_ATM_TXN            0.000000    6000.000000  1.350000e+04   \n",
       "AVG_AMT_PER_CSH_WDL_TXN     1265.450000  147095.000000  3.850000e+05   \n",
       "AVG_AMT_PER_CHQ_TXN            0.000000    8645.000000  2.860500e+04   \n",
       "AVG_AMT_PER_NET_TXN            0.000000       0.000000  2.576990e+05   \n",
       "AVG_AMT_PER_MOB_TXN            0.000000       0.000000  0.000000e+00   \n",
       "FLG_HAS_NOMINEE                1.000000       1.000000  1.000000e+00   \n",
       "FLG_HAS_OLD_LOAN               0.000000       0.000000  1.000000e+00   \n",
       "random                         0.248187       0.506121  7.535712e-01   \n",
       "\n",
       "                                   max  \n",
       "TARGET                    1.000000e+00  \n",
       "AGE                       5.500000e+01  \n",
       "BALANCE                   8.360431e+06  \n",
       "SCR                       9.990000e+02  \n",
       "HOLDING_PERIOD            3.100000e+01  \n",
       "LEN_OF_RLTN_IN_MNTH       2.210000e+02  \n",
       "NO_OF_L_CR_TXNS           7.500000e+01  \n",
       "NO_OF_L_DR_TXNS           7.400000e+01  \n",
       "TOT_NO_OF_L_TXNS          1.490000e+02  \n",
       "NO_OF_BR_CSH_WDL_DR_TXNS  1.500000e+01  \n",
       "NO_OF_ATM_DR_TXNS         2.500000e+01  \n",
       "NO_OF_NET_DR_TXNS         2.200000e+01  \n",
       "NO_OF_MOB_DR_TXNS         2.500000e+01  \n",
       "NO_OF_CHQ_DR_TXNS         1.500000e+01  \n",
       "FLG_HAS_CC                1.000000e+00  \n",
       "AMT_ATM_DR                1.993000e+05  \n",
       "AMT_BR_CSH_WDL_DR         9.999300e+05  \n",
       "AMT_CHQ_DR                4.928640e+06  \n",
       "AMT_NET_DR                9.998540e+05  \n",
       "AMT_MOB_DR                1.996670e+05  \n",
       "AMT_L_DR                  6.514921e+06  \n",
       "FLG_HAS_ANY_CHGS          1.000000e+00  \n",
       "AMT_OTH_BK_ATM_USG_CHGS   2.500000e+02  \n",
       "AMT_MIN_BAL_NMC_CHGS      1.700000e+02  \n",
       "NO_OF_IW_CHQ_BNC_TXNS     2.000000e+00  \n",
       "NO_OF_OW_CHQ_BNC_TXNS     2.000000e+00  \n",
       "AVG_AMT_PER_ATM_TXN       2.500000e+04  \n",
       "AVG_AMT_PER_CSH_WDL_TXN   9.996400e+05  \n",
       "AVG_AMT_PER_CHQ_TXN       5.378422e+05  \n",
       "AVG_AMT_PER_NET_TXN       9.998540e+05  \n",
       "AVG_AMT_PER_MOB_TXN       1.996670e+05  \n",
       "FLG_HAS_NOMINEE           1.000000e+00  \n",
       "FLG_HAS_OLD_LOAN          1.000000e+00  \n",
       "random                    9.999471e-01  "
      ]
     },
     "execution_count": 7,
     "metadata": {},
     "output_type": "execute_result"
    }
   ],
   "source": [
    "data.describe().T"
   ]
  },
  {
   "cell_type": "code",
   "execution_count": 8,
   "metadata": {},
   "outputs": [
    {
     "data": {
      "text/html": [
       "<div>\n",
       "<style scoped>\n",
       "    .dataframe tbody tr th:only-of-type {\n",
       "        vertical-align: middle;\n",
       "    }\n",
       "\n",
       "    .dataframe tbody tr th {\n",
       "        vertical-align: top;\n",
       "    }\n",
       "\n",
       "    .dataframe thead th {\n",
       "        text-align: right;\n",
       "    }\n",
       "</style>\n",
       "<table border=\"1\" class=\"dataframe\">\n",
       "  <thead>\n",
       "    <tr style=\"text-align: right;\">\n",
       "      <th></th>\n",
       "      <th>TARGET</th>\n",
       "      <th>AGE</th>\n",
       "      <th>GENDER</th>\n",
       "      <th>BALANCE</th>\n",
       "      <th>OCCUPATION</th>\n",
       "      <th>SCR</th>\n",
       "      <th>HOLDING_PERIOD</th>\n",
       "      <th>ACC_TYPE</th>\n",
       "      <th>LEN_OF_RLTN_IN_MNTH</th>\n",
       "      <th>NO_OF_L_CR_TXNS</th>\n",
       "      <th>...</th>\n",
       "      <th>AMT_MIN_BAL_NMC_CHGS</th>\n",
       "      <th>NO_OF_IW_CHQ_BNC_TXNS</th>\n",
       "      <th>NO_OF_OW_CHQ_BNC_TXNS</th>\n",
       "      <th>AVG_AMT_PER_ATM_TXN</th>\n",
       "      <th>AVG_AMT_PER_CSH_WDL_TXN</th>\n",
       "      <th>AVG_AMT_PER_CHQ_TXN</th>\n",
       "      <th>AVG_AMT_PER_NET_TXN</th>\n",
       "      <th>AVG_AMT_PER_MOB_TXN</th>\n",
       "      <th>FLG_HAS_NOMINEE</th>\n",
       "      <th>FLG_HAS_OLD_LOAN</th>\n",
       "    </tr>\n",
       "  </thead>\n",
       "  <tbody>\n",
       "    <tr>\n",
       "      <th>0</th>\n",
       "      <td>0</td>\n",
       "      <td>27</td>\n",
       "      <td>M</td>\n",
       "      <td>3383.75</td>\n",
       "      <td>SELF-EMP</td>\n",
       "      <td>776</td>\n",
       "      <td>30</td>\n",
       "      <td>SA</td>\n",
       "      <td>146</td>\n",
       "      <td>7</td>\n",
       "      <td>...</td>\n",
       "      <td>0</td>\n",
       "      <td>0</td>\n",
       "      <td>0</td>\n",
       "      <td>13100.0</td>\n",
       "      <td>0.0</td>\n",
       "      <td>0.0</td>\n",
       "      <td>486778.50</td>\n",
       "      <td>0.0</td>\n",
       "      <td>1</td>\n",
       "      <td>1</td>\n",
       "    </tr>\n",
       "    <tr>\n",
       "      <th>1</th>\n",
       "      <td>0</td>\n",
       "      <td>47</td>\n",
       "      <td>M</td>\n",
       "      <td>287489.04</td>\n",
       "      <td>SAL</td>\n",
       "      <td>324</td>\n",
       "      <td>28</td>\n",
       "      <td>SA</td>\n",
       "      <td>104</td>\n",
       "      <td>8</td>\n",
       "      <td>...</td>\n",
       "      <td>0</td>\n",
       "      <td>0</td>\n",
       "      <td>0</td>\n",
       "      <td>6600.0</td>\n",
       "      <td>0.0</td>\n",
       "      <td>0.0</td>\n",
       "      <td>799813.00</td>\n",
       "      <td>0.0</td>\n",
       "      <td>1</td>\n",
       "      <td>0</td>\n",
       "    </tr>\n",
       "    <tr>\n",
       "      <th>2</th>\n",
       "      <td>0</td>\n",
       "      <td>40</td>\n",
       "      <td>M</td>\n",
       "      <td>18216.88</td>\n",
       "      <td>SELF-EMP</td>\n",
       "      <td>603</td>\n",
       "      <td>2</td>\n",
       "      <td>SA</td>\n",
       "      <td>61</td>\n",
       "      <td>10</td>\n",
       "      <td>...</td>\n",
       "      <td>0</td>\n",
       "      <td>0</td>\n",
       "      <td>1</td>\n",
       "      <td>11200.0</td>\n",
       "      <td>561120.0</td>\n",
       "      <td>24660.0</td>\n",
       "      <td>997570.00</td>\n",
       "      <td>0.0</td>\n",
       "      <td>1</td>\n",
       "      <td>1</td>\n",
       "    </tr>\n",
       "    <tr>\n",
       "      <th>3</th>\n",
       "      <td>0</td>\n",
       "      <td>53</td>\n",
       "      <td>M</td>\n",
       "      <td>71720.48</td>\n",
       "      <td>SAL</td>\n",
       "      <td>196</td>\n",
       "      <td>13</td>\n",
       "      <td>CA</td>\n",
       "      <td>107</td>\n",
       "      <td>36</td>\n",
       "      <td>...</td>\n",
       "      <td>0</td>\n",
       "      <td>0</td>\n",
       "      <td>0</td>\n",
       "      <td>13050.0</td>\n",
       "      <td>168397.5</td>\n",
       "      <td>15195.0</td>\n",
       "      <td>247168.67</td>\n",
       "      <td>71388.0</td>\n",
       "      <td>1</td>\n",
       "      <td>0</td>\n",
       "    </tr>\n",
       "    <tr>\n",
       "      <th>4</th>\n",
       "      <td>0</td>\n",
       "      <td>36</td>\n",
       "      <td>M</td>\n",
       "      <td>1671622.89</td>\n",
       "      <td>PROF</td>\n",
       "      <td>167</td>\n",
       "      <td>24</td>\n",
       "      <td>SA</td>\n",
       "      <td>185</td>\n",
       "      <td>20</td>\n",
       "      <td>...</td>\n",
       "      <td>0</td>\n",
       "      <td>0</td>\n",
       "      <td>0</td>\n",
       "      <td>0.0</td>\n",
       "      <td>808480.0</td>\n",
       "      <td>0.0</td>\n",
       "      <td>0.00</td>\n",
       "      <td>0.0</td>\n",
       "      <td>1</td>\n",
       "      <td>0</td>\n",
       "    </tr>\n",
       "  </tbody>\n",
       "</table>\n",
       "<p>5 rows × 36 columns</p>\n",
       "</div>"
      ],
      "text/plain": [
       "   TARGET  AGE GENDER     BALANCE OCCUPATION  SCR  HOLDING_PERIOD ACC_TYPE  \\\n",
       "0       0   27      M     3383.75   SELF-EMP  776              30       SA   \n",
       "1       0   47      M   287489.04        SAL  324              28       SA   \n",
       "2       0   40      M    18216.88   SELF-EMP  603               2       SA   \n",
       "3       0   53      M    71720.48        SAL  196              13       CA   \n",
       "4       0   36      M  1671622.89       PROF  167              24       SA   \n",
       "\n",
       "   LEN_OF_RLTN_IN_MNTH  NO_OF_L_CR_TXNS        ...         \\\n",
       "0                  146                7        ...          \n",
       "1                  104                8        ...          \n",
       "2                   61               10        ...          \n",
       "3                  107               36        ...          \n",
       "4                  185               20        ...          \n",
       "\n",
       "   AMT_MIN_BAL_NMC_CHGS  NO_OF_IW_CHQ_BNC_TXNS  NO_OF_OW_CHQ_BNC_TXNS  \\\n",
       "0                     0                      0                      0   \n",
       "1                     0                      0                      0   \n",
       "2                     0                      0                      1   \n",
       "3                     0                      0                      0   \n",
       "4                     0                      0                      0   \n",
       "\n",
       "   AVG_AMT_PER_ATM_TXN  AVG_AMT_PER_CSH_WDL_TXN  AVG_AMT_PER_CHQ_TXN  \\\n",
       "0              13100.0                      0.0                  0.0   \n",
       "1               6600.0                      0.0                  0.0   \n",
       "2              11200.0                 561120.0              24660.0   \n",
       "3              13050.0                 168397.5              15195.0   \n",
       "4                  0.0                 808480.0                  0.0   \n",
       "\n",
       "   AVG_AMT_PER_NET_TXN  AVG_AMT_PER_MOB_TXN  FLG_HAS_NOMINEE  FLG_HAS_OLD_LOAN  \n",
       "0            486778.50                  0.0                1                 1  \n",
       "1            799813.00                  0.0                1                 0  \n",
       "2            997570.00                  0.0                1                 1  \n",
       "3            247168.67              71388.0                1                 0  \n",
       "4                 0.00                  0.0                1                 0  \n",
       "\n",
       "[5 rows x 36 columns]"
      ]
     },
     "execution_count": 8,
     "metadata": {},
     "output_type": "execute_result"
    }
   ],
   "source": [
    "df = data.drop(['CUST_ID','ACC_OP_DATE','AGE_BKT','random'],axis=1)\n",
    "df.head()"
   ]
  },
  {
   "cell_type": "code",
   "execution_count": 9,
   "metadata": {},
   "outputs": [],
   "source": [
    "df['GENDER'] = df['GENDER'].map({'M':0,'F':1,'O':2})"
   ]
  },
  {
   "cell_type": "code",
   "execution_count": 10,
   "metadata": {},
   "outputs": [
    {
     "data": {
      "text/plain": [
       "SAL         5855\n",
       "PROF        5417\n",
       "SENP        5160\n",
       "SELF-EMP    3568\n",
       "Name: OCCUPATION, dtype: int64"
      ]
     },
     "execution_count": 10,
     "metadata": {},
     "output_type": "execute_result"
    }
   ],
   "source": [
    "df['OCCUPATION'].value_counts()"
   ]
  },
  {
   "cell_type": "code",
   "execution_count": 11,
   "metadata": {},
   "outputs": [],
   "source": [
    "df['OCCUPATION'] = df['OCCUPATION'].map({'SAL':0,'PROF':1,'SENP':2,'SELF-EMP':3})"
   ]
  },
  {
   "cell_type": "code",
   "execution_count": 12,
   "metadata": {},
   "outputs": [
    {
     "data": {
      "text/plain": [
       "SA    15759\n",
       "CA     4241\n",
       "Name: ACC_TYPE, dtype: int64"
      ]
     },
     "execution_count": 12,
     "metadata": {},
     "output_type": "execute_result"
    }
   ],
   "source": [
    "df['ACC_TYPE'].value_counts()"
   ]
  },
  {
   "cell_type": "code",
   "execution_count": 13,
   "metadata": {},
   "outputs": [],
   "source": [
    "df['ACC_TYPE'] = df['ACC_TYPE'].map({'SA':0,'CA':1})"
   ]
  },
  {
   "cell_type": "code",
   "execution_count": 14,
   "metadata": {},
   "outputs": [
    {
     "data": {
      "text/plain": [
       "TARGET                        int64\n",
       "AGE                           int64\n",
       "GENDER                        int64\n",
       "BALANCE                     float64\n",
       "OCCUPATION                    int64\n",
       "SCR                           int64\n",
       "HOLDING_PERIOD                int64\n",
       "ACC_TYPE                      int64\n",
       "LEN_OF_RLTN_IN_MNTH           int64\n",
       "NO_OF_L_CR_TXNS               int64\n",
       "NO_OF_L_DR_TXNS               int64\n",
       "TOT_NO_OF_L_TXNS              int64\n",
       "NO_OF_BR_CSH_WDL_DR_TXNS      int64\n",
       "NO_OF_ATM_DR_TXNS             int64\n",
       "NO_OF_NET_DR_TXNS             int64\n",
       "NO_OF_MOB_DR_TXNS             int64\n",
       "NO_OF_CHQ_DR_TXNS             int64\n",
       "FLG_HAS_CC                    int64\n",
       "AMT_ATM_DR                    int64\n",
       "AMT_BR_CSH_WDL_DR             int64\n",
       "AMT_CHQ_DR                    int64\n",
       "AMT_NET_DR                  float64\n",
       "AMT_MOB_DR                    int64\n",
       "AMT_L_DR                    float64\n",
       "FLG_HAS_ANY_CHGS              int64\n",
       "AMT_OTH_BK_ATM_USG_CHGS       int64\n",
       "AMT_MIN_BAL_NMC_CHGS          int64\n",
       "NO_OF_IW_CHQ_BNC_TXNS         int64\n",
       "NO_OF_OW_CHQ_BNC_TXNS         int64\n",
       "AVG_AMT_PER_ATM_TXN         float64\n",
       "AVG_AMT_PER_CSH_WDL_TXN     float64\n",
       "AVG_AMT_PER_CHQ_TXN         float64\n",
       "AVG_AMT_PER_NET_TXN         float64\n",
       "AVG_AMT_PER_MOB_TXN         float64\n",
       "FLG_HAS_NOMINEE               int64\n",
       "FLG_HAS_OLD_LOAN              int64\n",
       "dtype: object"
      ]
     },
     "execution_count": 14,
     "metadata": {},
     "output_type": "execute_result"
    }
   ],
   "source": [
    "df.dtypes"
   ]
  },
  {
   "cell_type": "code",
   "execution_count": 16,
   "metadata": {},
   "outputs": [
    {
     "data": {
      "text/html": [
       "<div>\n",
       "<style scoped>\n",
       "    .dataframe tbody tr th:only-of-type {\n",
       "        vertical-align: middle;\n",
       "    }\n",
       "\n",
       "    .dataframe tbody tr th {\n",
       "        vertical-align: top;\n",
       "    }\n",
       "\n",
       "    .dataframe thead th {\n",
       "        text-align: right;\n",
       "    }\n",
       "</style>\n",
       "<table border=\"1\" class=\"dataframe\">\n",
       "  <thead>\n",
       "    <tr style=\"text-align: right;\">\n",
       "      <th></th>\n",
       "      <th>count</th>\n",
       "      <th>mean</th>\n",
       "      <th>std</th>\n",
       "      <th>min</th>\n",
       "      <th>25%</th>\n",
       "      <th>50%</th>\n",
       "      <th>75%</th>\n",
       "      <th>max</th>\n",
       "    </tr>\n",
       "  </thead>\n",
       "  <tbody>\n",
       "    <tr>\n",
       "      <th>TARGET</th>\n",
       "      <td>20000.0</td>\n",
       "      <td>0.125600</td>\n",
       "      <td>0.331406</td>\n",
       "      <td>0.0</td>\n",
       "      <td>0.000</td>\n",
       "      <td>0.000</td>\n",
       "      <td>0.00</td>\n",
       "      <td>1.00</td>\n",
       "    </tr>\n",
       "    <tr>\n",
       "      <th>AGE</th>\n",
       "      <td>20000.0</td>\n",
       "      <td>38.418150</td>\n",
       "      <td>9.577985</td>\n",
       "      <td>21.0</td>\n",
       "      <td>30.000</td>\n",
       "      <td>38.000</td>\n",
       "      <td>46.00</td>\n",
       "      <td>55.00</td>\n",
       "    </tr>\n",
       "    <tr>\n",
       "      <th>GENDER</th>\n",
       "      <td>20000.0</td>\n",
       "      <td>0.290750</td>\n",
       "      <td>0.474685</td>\n",
       "      <td>0.0</td>\n",
       "      <td>0.000</td>\n",
       "      <td>0.000</td>\n",
       "      <td>1.00</td>\n",
       "      <td>2.00</td>\n",
       "    </tr>\n",
       "    <tr>\n",
       "      <th>BALANCE</th>\n",
       "      <td>20000.0</td>\n",
       "      <td>511362.192118</td>\n",
       "      <td>723592.961792</td>\n",
       "      <td>0.0</td>\n",
       "      <td>64754.025</td>\n",
       "      <td>231675.845</td>\n",
       "      <td>653876.85</td>\n",
       "      <td>8360430.57</td>\n",
       "    </tr>\n",
       "    <tr>\n",
       "      <th>OCCUPATION</th>\n",
       "      <td>20000.0</td>\n",
       "      <td>1.322050</td>\n",
       "      <td>1.077354</td>\n",
       "      <td>0.0</td>\n",
       "      <td>0.000</td>\n",
       "      <td>1.000</td>\n",
       "      <td>2.00</td>\n",
       "      <td>3.00</td>\n",
       "    </tr>\n",
       "    <tr>\n",
       "      <th>SCR</th>\n",
       "      <td>20000.0</td>\n",
       "      <td>440.150300</td>\n",
       "      <td>249.887582</td>\n",
       "      <td>100.0</td>\n",
       "      <td>227.000</td>\n",
       "      <td>364.000</td>\n",
       "      <td>644.00</td>\n",
       "      <td>999.00</td>\n",
       "    </tr>\n",
       "    <tr>\n",
       "      <th>HOLDING_PERIOD</th>\n",
       "      <td>20000.0</td>\n",
       "      <td>14.955650</td>\n",
       "      <td>8.642634</td>\n",
       "      <td>1.0</td>\n",
       "      <td>7.000</td>\n",
       "      <td>15.000</td>\n",
       "      <td>22.00</td>\n",
       "      <td>31.00</td>\n",
       "    </tr>\n",
       "    <tr>\n",
       "      <th>ACC_TYPE</th>\n",
       "      <td>20000.0</td>\n",
       "      <td>0.212050</td>\n",
       "      <td>0.408770</td>\n",
       "      <td>0.0</td>\n",
       "      <td>0.000</td>\n",
       "      <td>0.000</td>\n",
       "      <td>0.00</td>\n",
       "      <td>1.00</td>\n",
       "    </tr>\n",
       "    <tr>\n",
       "      <th>LEN_OF_RLTN_IN_MNTH</th>\n",
       "      <td>20000.0</td>\n",
       "      <td>125.239300</td>\n",
       "      <td>54.953936</td>\n",
       "      <td>29.0</td>\n",
       "      <td>79.000</td>\n",
       "      <td>125.000</td>\n",
       "      <td>172.00</td>\n",
       "      <td>221.00</td>\n",
       "    </tr>\n",
       "    <tr>\n",
       "      <th>NO_OF_L_CR_TXNS</th>\n",
       "      <td>20000.0</td>\n",
       "      <td>12.348050</td>\n",
       "      <td>12.151921</td>\n",
       "      <td>0.0</td>\n",
       "      <td>6.000</td>\n",
       "      <td>10.000</td>\n",
       "      <td>14.00</td>\n",
       "      <td>75.00</td>\n",
       "    </tr>\n",
       "    <tr>\n",
       "      <th>NO_OF_L_DR_TXNS</th>\n",
       "      <td>20000.0</td>\n",
       "      <td>6.633700</td>\n",
       "      <td>7.675830</td>\n",
       "      <td>0.0</td>\n",
       "      <td>2.000</td>\n",
       "      <td>5.000</td>\n",
       "      <td>7.00</td>\n",
       "      <td>74.00</td>\n",
       "    </tr>\n",
       "    <tr>\n",
       "      <th>TOT_NO_OF_L_TXNS</th>\n",
       "      <td>20000.0</td>\n",
       "      <td>18.975400</td>\n",
       "      <td>17.759290</td>\n",
       "      <td>0.0</td>\n",
       "      <td>9.000</td>\n",
       "      <td>14.000</td>\n",
       "      <td>21.00</td>\n",
       "      <td>149.00</td>\n",
       "    </tr>\n",
       "    <tr>\n",
       "      <th>NO_OF_BR_CSH_WDL_DR_TXNS</th>\n",
       "      <td>20000.0</td>\n",
       "      <td>1.883000</td>\n",
       "      <td>2.263596</td>\n",
       "      <td>0.0</td>\n",
       "      <td>1.000</td>\n",
       "      <td>1.000</td>\n",
       "      <td>2.00</td>\n",
       "      <td>15.00</td>\n",
       "    </tr>\n",
       "    <tr>\n",
       "      <th>NO_OF_ATM_DR_TXNS</th>\n",
       "      <td>20000.0</td>\n",
       "      <td>1.028950</td>\n",
       "      <td>1.497239</td>\n",
       "      <td>0.0</td>\n",
       "      <td>0.000</td>\n",
       "      <td>1.000</td>\n",
       "      <td>1.00</td>\n",
       "      <td>25.00</td>\n",
       "    </tr>\n",
       "    <tr>\n",
       "      <th>NO_OF_NET_DR_TXNS</th>\n",
       "      <td>20000.0</td>\n",
       "      <td>1.172450</td>\n",
       "      <td>2.404246</td>\n",
       "      <td>0.0</td>\n",
       "      <td>0.000</td>\n",
       "      <td>0.000</td>\n",
       "      <td>1.00</td>\n",
       "      <td>22.00</td>\n",
       "    </tr>\n",
       "    <tr>\n",
       "      <th>NO_OF_MOB_DR_TXNS</th>\n",
       "      <td>20000.0</td>\n",
       "      <td>0.411750</td>\n",
       "      <td>2.009854</td>\n",
       "      <td>0.0</td>\n",
       "      <td>0.000</td>\n",
       "      <td>0.000</td>\n",
       "      <td>0.00</td>\n",
       "      <td>25.00</td>\n",
       "    </tr>\n",
       "    <tr>\n",
       "      <th>NO_OF_CHQ_DR_TXNS</th>\n",
       "      <td>20000.0</td>\n",
       "      <td>2.137550</td>\n",
       "      <td>2.384893</td>\n",
       "      <td>0.0</td>\n",
       "      <td>0.000</td>\n",
       "      <td>2.000</td>\n",
       "      <td>4.00</td>\n",
       "      <td>15.00</td>\n",
       "    </tr>\n",
       "    <tr>\n",
       "      <th>FLG_HAS_CC</th>\n",
       "      <td>20000.0</td>\n",
       "      <td>0.305400</td>\n",
       "      <td>0.460588</td>\n",
       "      <td>0.0</td>\n",
       "      <td>0.000</td>\n",
       "      <td>0.000</td>\n",
       "      <td>1.00</td>\n",
       "      <td>1.00</td>\n",
       "    </tr>\n",
       "    <tr>\n",
       "      <th>AMT_ATM_DR</th>\n",
       "      <td>20000.0</td>\n",
       "      <td>10990.015000</td>\n",
       "      <td>15304.891499</td>\n",
       "      <td>0.0</td>\n",
       "      <td>0.000</td>\n",
       "      <td>6900.000</td>\n",
       "      <td>15800.00</td>\n",
       "      <td>199300.00</td>\n",
       "    </tr>\n",
       "    <tr>\n",
       "      <th>AMT_BR_CSH_WDL_DR</th>\n",
       "      <td>20000.0</td>\n",
       "      <td>378474.478000</td>\n",
       "      <td>331417.730129</td>\n",
       "      <td>0.0</td>\n",
       "      <td>2990.000</td>\n",
       "      <td>340150.000</td>\n",
       "      <td>674675.00</td>\n",
       "      <td>999930.00</td>\n",
       "    </tr>\n",
       "    <tr>\n",
       "      <th>AMT_CHQ_DR</th>\n",
       "      <td>20000.0</td>\n",
       "      <td>124520.005150</td>\n",
       "      <td>439379.541425</td>\n",
       "      <td>0.0</td>\n",
       "      <td>0.000</td>\n",
       "      <td>23840.000</td>\n",
       "      <td>72470.00</td>\n",
       "      <td>4928640.00</td>\n",
       "    </tr>\n",
       "    <tr>\n",
       "      <th>AMT_NET_DR</th>\n",
       "      <td>20000.0</td>\n",
       "      <td>237307.771646</td>\n",
       "      <td>319067.664858</td>\n",
       "      <td>0.0</td>\n",
       "      <td>0.000</td>\n",
       "      <td>0.000</td>\n",
       "      <td>473970.50</td>\n",
       "      <td>999854.00</td>\n",
       "    </tr>\n",
       "    <tr>\n",
       "      <th>AMT_MOB_DR</th>\n",
       "      <td>20000.0</td>\n",
       "      <td>22424.704400</td>\n",
       "      <td>49484.803631</td>\n",
       "      <td>0.0</td>\n",
       "      <td>0.000</td>\n",
       "      <td>0.000</td>\n",
       "      <td>0.00</td>\n",
       "      <td>199667.00</td>\n",
       "    </tr>\n",
       "    <tr>\n",
       "      <th>AMT_L_DR</th>\n",
       "      <td>20000.0</td>\n",
       "      <td>773716.974195</td>\n",
       "      <td>712659.173217</td>\n",
       "      <td>0.0</td>\n",
       "      <td>237935.500</td>\n",
       "      <td>695115.000</td>\n",
       "      <td>1078927.00</td>\n",
       "      <td>6514921.00</td>\n",
       "    </tr>\n",
       "    <tr>\n",
       "      <th>FLG_HAS_ANY_CHGS</th>\n",
       "      <td>20000.0</td>\n",
       "      <td>0.110600</td>\n",
       "      <td>0.313644</td>\n",
       "      <td>0.0</td>\n",
       "      <td>0.000</td>\n",
       "      <td>0.000</td>\n",
       "      <td>0.00</td>\n",
       "      <td>1.00</td>\n",
       "    </tr>\n",
       "    <tr>\n",
       "      <th>AMT_OTH_BK_ATM_USG_CHGS</th>\n",
       "      <td>20000.0</td>\n",
       "      <td>1.099500</td>\n",
       "      <td>14.219220</td>\n",
       "      <td>0.0</td>\n",
       "      <td>0.000</td>\n",
       "      <td>0.000</td>\n",
       "      <td>0.00</td>\n",
       "      <td>250.00</td>\n",
       "    </tr>\n",
       "    <tr>\n",
       "      <th>AMT_MIN_BAL_NMC_CHGS</th>\n",
       "      <td>20000.0</td>\n",
       "      <td>1.292000</td>\n",
       "      <td>14.764201</td>\n",
       "      <td>0.0</td>\n",
       "      <td>0.000</td>\n",
       "      <td>0.000</td>\n",
       "      <td>0.00</td>\n",
       "      <td>170.00</td>\n",
       "    </tr>\n",
       "    <tr>\n",
       "      <th>NO_OF_IW_CHQ_BNC_TXNS</th>\n",
       "      <td>20000.0</td>\n",
       "      <td>0.042750</td>\n",
       "      <td>0.203038</td>\n",
       "      <td>0.0</td>\n",
       "      <td>0.000</td>\n",
       "      <td>0.000</td>\n",
       "      <td>0.00</td>\n",
       "      <td>2.00</td>\n",
       "    </tr>\n",
       "    <tr>\n",
       "      <th>NO_OF_OW_CHQ_BNC_TXNS</th>\n",
       "      <td>20000.0</td>\n",
       "      <td>0.044400</td>\n",
       "      <td>0.206230</td>\n",
       "      <td>0.0</td>\n",
       "      <td>0.000</td>\n",
       "      <td>0.000</td>\n",
       "      <td>0.00</td>\n",
       "      <td>2.00</td>\n",
       "    </tr>\n",
       "    <tr>\n",
       "      <th>AVG_AMT_PER_ATM_TXN</th>\n",
       "      <td>20000.0</td>\n",
       "      <td>7408.839731</td>\n",
       "      <td>7210.168619</td>\n",
       "      <td>0.0</td>\n",
       "      <td>0.000</td>\n",
       "      <td>6000.000</td>\n",
       "      <td>13500.00</td>\n",
       "      <td>25000.00</td>\n",
       "    </tr>\n",
       "    <tr>\n",
       "      <th>AVG_AMT_PER_CSH_WDL_TXN</th>\n",
       "      <td>20000.0</td>\n",
       "      <td>242236.478811</td>\n",
       "      <td>269837.890598</td>\n",
       "      <td>0.0</td>\n",
       "      <td>1265.450</td>\n",
       "      <td>147095.000</td>\n",
       "      <td>385000.00</td>\n",
       "      <td>999640.00</td>\n",
       "    </tr>\n",
       "    <tr>\n",
       "      <th>AVG_AMT_PER_CHQ_TXN</th>\n",
       "      <td>20000.0</td>\n",
       "      <td>25092.478384</td>\n",
       "      <td>49387.197536</td>\n",
       "      <td>0.0</td>\n",
       "      <td>0.000</td>\n",
       "      <td>8645.000</td>\n",
       "      <td>28605.00</td>\n",
       "      <td>537842.22</td>\n",
       "    </tr>\n",
       "    <tr>\n",
       "      <th>AVG_AMT_PER_NET_TXN</th>\n",
       "      <td>20000.0</td>\n",
       "      <td>179059.029254</td>\n",
       "      <td>281706.855583</td>\n",
       "      <td>0.0</td>\n",
       "      <td>0.000</td>\n",
       "      <td>0.000</td>\n",
       "      <td>257699.00</td>\n",
       "      <td>999854.00</td>\n",
       "    </tr>\n",
       "    <tr>\n",
       "      <th>AVG_AMT_PER_MOB_TXN</th>\n",
       "      <td>20000.0</td>\n",
       "      <td>20303.920406</td>\n",
       "      <td>46472.889982</td>\n",
       "      <td>0.0</td>\n",
       "      <td>0.000</td>\n",
       "      <td>0.000</td>\n",
       "      <td>0.00</td>\n",
       "      <td>199667.00</td>\n",
       "    </tr>\n",
       "    <tr>\n",
       "      <th>FLG_HAS_NOMINEE</th>\n",
       "      <td>20000.0</td>\n",
       "      <td>0.901150</td>\n",
       "      <td>0.298468</td>\n",
       "      <td>0.0</td>\n",
       "      <td>1.000</td>\n",
       "      <td>1.000</td>\n",
       "      <td>1.00</td>\n",
       "      <td>1.00</td>\n",
       "    </tr>\n",
       "    <tr>\n",
       "      <th>FLG_HAS_OLD_LOAN</th>\n",
       "      <td>20000.0</td>\n",
       "      <td>0.492950</td>\n",
       "      <td>0.499963</td>\n",
       "      <td>0.0</td>\n",
       "      <td>0.000</td>\n",
       "      <td>0.000</td>\n",
       "      <td>1.00</td>\n",
       "      <td>1.00</td>\n",
       "    </tr>\n",
       "  </tbody>\n",
       "</table>\n",
       "</div>"
      ],
      "text/plain": [
       "                            count           mean            std    min  \\\n",
       "TARGET                    20000.0       0.125600       0.331406    0.0   \n",
       "AGE                       20000.0      38.418150       9.577985   21.0   \n",
       "GENDER                    20000.0       0.290750       0.474685    0.0   \n",
       "BALANCE                   20000.0  511362.192118  723592.961792    0.0   \n",
       "OCCUPATION                20000.0       1.322050       1.077354    0.0   \n",
       "SCR                       20000.0     440.150300     249.887582  100.0   \n",
       "HOLDING_PERIOD            20000.0      14.955650       8.642634    1.0   \n",
       "ACC_TYPE                  20000.0       0.212050       0.408770    0.0   \n",
       "LEN_OF_RLTN_IN_MNTH       20000.0     125.239300      54.953936   29.0   \n",
       "NO_OF_L_CR_TXNS           20000.0      12.348050      12.151921    0.0   \n",
       "NO_OF_L_DR_TXNS           20000.0       6.633700       7.675830    0.0   \n",
       "TOT_NO_OF_L_TXNS          20000.0      18.975400      17.759290    0.0   \n",
       "NO_OF_BR_CSH_WDL_DR_TXNS  20000.0       1.883000       2.263596    0.0   \n",
       "NO_OF_ATM_DR_TXNS         20000.0       1.028950       1.497239    0.0   \n",
       "NO_OF_NET_DR_TXNS         20000.0       1.172450       2.404246    0.0   \n",
       "NO_OF_MOB_DR_TXNS         20000.0       0.411750       2.009854    0.0   \n",
       "NO_OF_CHQ_DR_TXNS         20000.0       2.137550       2.384893    0.0   \n",
       "FLG_HAS_CC                20000.0       0.305400       0.460588    0.0   \n",
       "AMT_ATM_DR                20000.0   10990.015000   15304.891499    0.0   \n",
       "AMT_BR_CSH_WDL_DR         20000.0  378474.478000  331417.730129    0.0   \n",
       "AMT_CHQ_DR                20000.0  124520.005150  439379.541425    0.0   \n",
       "AMT_NET_DR                20000.0  237307.771646  319067.664858    0.0   \n",
       "AMT_MOB_DR                20000.0   22424.704400   49484.803631    0.0   \n",
       "AMT_L_DR                  20000.0  773716.974195  712659.173217    0.0   \n",
       "FLG_HAS_ANY_CHGS          20000.0       0.110600       0.313644    0.0   \n",
       "AMT_OTH_BK_ATM_USG_CHGS   20000.0       1.099500      14.219220    0.0   \n",
       "AMT_MIN_BAL_NMC_CHGS      20000.0       1.292000      14.764201    0.0   \n",
       "NO_OF_IW_CHQ_BNC_TXNS     20000.0       0.042750       0.203038    0.0   \n",
       "NO_OF_OW_CHQ_BNC_TXNS     20000.0       0.044400       0.206230    0.0   \n",
       "AVG_AMT_PER_ATM_TXN       20000.0    7408.839731    7210.168619    0.0   \n",
       "AVG_AMT_PER_CSH_WDL_TXN   20000.0  242236.478811  269837.890598    0.0   \n",
       "AVG_AMT_PER_CHQ_TXN       20000.0   25092.478384   49387.197536    0.0   \n",
       "AVG_AMT_PER_NET_TXN       20000.0  179059.029254  281706.855583    0.0   \n",
       "AVG_AMT_PER_MOB_TXN       20000.0   20303.920406   46472.889982    0.0   \n",
       "FLG_HAS_NOMINEE           20000.0       0.901150       0.298468    0.0   \n",
       "FLG_HAS_OLD_LOAN          20000.0       0.492950       0.499963    0.0   \n",
       "\n",
       "                                 25%         50%         75%         max  \n",
       "TARGET                         0.000       0.000        0.00        1.00  \n",
       "AGE                           30.000      38.000       46.00       55.00  \n",
       "GENDER                         0.000       0.000        1.00        2.00  \n",
       "BALANCE                    64754.025  231675.845   653876.85  8360430.57  \n",
       "OCCUPATION                     0.000       1.000        2.00        3.00  \n",
       "SCR                          227.000     364.000      644.00      999.00  \n",
       "HOLDING_PERIOD                 7.000      15.000       22.00       31.00  \n",
       "ACC_TYPE                       0.000       0.000        0.00        1.00  \n",
       "LEN_OF_RLTN_IN_MNTH           79.000     125.000      172.00      221.00  \n",
       "NO_OF_L_CR_TXNS                6.000      10.000       14.00       75.00  \n",
       "NO_OF_L_DR_TXNS                2.000       5.000        7.00       74.00  \n",
       "TOT_NO_OF_L_TXNS               9.000      14.000       21.00      149.00  \n",
       "NO_OF_BR_CSH_WDL_DR_TXNS       1.000       1.000        2.00       15.00  \n",
       "NO_OF_ATM_DR_TXNS              0.000       1.000        1.00       25.00  \n",
       "NO_OF_NET_DR_TXNS              0.000       0.000        1.00       22.00  \n",
       "NO_OF_MOB_DR_TXNS              0.000       0.000        0.00       25.00  \n",
       "NO_OF_CHQ_DR_TXNS              0.000       2.000        4.00       15.00  \n",
       "FLG_HAS_CC                     0.000       0.000        1.00        1.00  \n",
       "AMT_ATM_DR                     0.000    6900.000    15800.00   199300.00  \n",
       "AMT_BR_CSH_WDL_DR           2990.000  340150.000   674675.00   999930.00  \n",
       "AMT_CHQ_DR                     0.000   23840.000    72470.00  4928640.00  \n",
       "AMT_NET_DR                     0.000       0.000   473970.50   999854.00  \n",
       "AMT_MOB_DR                     0.000       0.000        0.00   199667.00  \n",
       "AMT_L_DR                  237935.500  695115.000  1078927.00  6514921.00  \n",
       "FLG_HAS_ANY_CHGS               0.000       0.000        0.00        1.00  \n",
       "AMT_OTH_BK_ATM_USG_CHGS        0.000       0.000        0.00      250.00  \n",
       "AMT_MIN_BAL_NMC_CHGS           0.000       0.000        0.00      170.00  \n",
       "NO_OF_IW_CHQ_BNC_TXNS          0.000       0.000        0.00        2.00  \n",
       "NO_OF_OW_CHQ_BNC_TXNS          0.000       0.000        0.00        2.00  \n",
       "AVG_AMT_PER_ATM_TXN            0.000    6000.000    13500.00    25000.00  \n",
       "AVG_AMT_PER_CSH_WDL_TXN     1265.450  147095.000   385000.00   999640.00  \n",
       "AVG_AMT_PER_CHQ_TXN            0.000    8645.000    28605.00   537842.22  \n",
       "AVG_AMT_PER_NET_TXN            0.000       0.000   257699.00   999854.00  \n",
       "AVG_AMT_PER_MOB_TXN            0.000       0.000        0.00   199667.00  \n",
       "FLG_HAS_NOMINEE                1.000       1.000        1.00        1.00  \n",
       "FLG_HAS_OLD_LOAN               0.000       0.000        1.00        1.00  "
      ]
     },
     "execution_count": 16,
     "metadata": {},
     "output_type": "execute_result"
    }
   ],
   "source": [
    "df.describe().T"
   ]
  },
  {
   "cell_type": "code",
   "execution_count": 17,
   "metadata": {},
   "outputs": [
    {
     "data": {
      "text/plain": [
       "TARGET                      0\n",
       "AGE                         0\n",
       "GENDER                      0\n",
       "BALANCE                     0\n",
       "OCCUPATION                  0\n",
       "SCR                         0\n",
       "HOLDING_PERIOD              0\n",
       "ACC_TYPE                    0\n",
       "LEN_OF_RLTN_IN_MNTH         0\n",
       "NO_OF_L_CR_TXNS             0\n",
       "NO_OF_L_DR_TXNS             0\n",
       "TOT_NO_OF_L_TXNS            0\n",
       "NO_OF_BR_CSH_WDL_DR_TXNS    0\n",
       "NO_OF_ATM_DR_TXNS           0\n",
       "NO_OF_NET_DR_TXNS           0\n",
       "NO_OF_MOB_DR_TXNS           0\n",
       "NO_OF_CHQ_DR_TXNS           0\n",
       "FLG_HAS_CC                  0\n",
       "AMT_ATM_DR                  0\n",
       "AMT_BR_CSH_WDL_DR           0\n",
       "AMT_CHQ_DR                  0\n",
       "AMT_NET_DR                  0\n",
       "AMT_MOB_DR                  0\n",
       "AMT_L_DR                    0\n",
       "FLG_HAS_ANY_CHGS            0\n",
       "AMT_OTH_BK_ATM_USG_CHGS     0\n",
       "AMT_MIN_BAL_NMC_CHGS        0\n",
       "NO_OF_IW_CHQ_BNC_TXNS       0\n",
       "NO_OF_OW_CHQ_BNC_TXNS       0\n",
       "AVG_AMT_PER_ATM_TXN         0\n",
       "AVG_AMT_PER_CSH_WDL_TXN     0\n",
       "AVG_AMT_PER_CHQ_TXN         0\n",
       "AVG_AMT_PER_NET_TXN         0\n",
       "AVG_AMT_PER_MOB_TXN         0\n",
       "FLG_HAS_NOMINEE             0\n",
       "FLG_HAS_OLD_LOAN            0\n",
       "dtype: int64"
      ]
     },
     "execution_count": 17,
     "metadata": {},
     "output_type": "execute_result"
    }
   ],
   "source": [
    "df.isnull().sum()"
   ]
  },
  {
   "cell_type": "code",
   "execution_count": 19,
   "metadata": {},
   "outputs": [
    {
     "data": {
      "text/plain": [
       "['BALANCE',\n",
       " 'SCR',\n",
       " 'ATM_AMT_DR',\n",
       " 'ATM_CHQ_DR',\n",
       " 'AMT_NET_DR',\n",
       " 'AMT_MOB_DR',\n",
       " 'AMT_L_DR',\n",
       " 'AVG_AMT_PER_ATM_TXN',\n",
       " 'AVG_AMT_PER_CSH_WDL_TXN',\n",
       " 'AVG_AMT_PER_CHQ_TXN',\n",
       " 'AVG_AMT_PER_NET_TXN',\n",
       " 'AVG_AMT_PER_ATM_TXN']"
      ]
     },
     "execution_count": 19,
     "metadata": {},
     "output_type": "execute_result"
    }
   ],
   "source": [
    "(['BALANCE','SCR','ATM_AMT_DR','ATM_CHQ_DR','AMT_NET_DR','AMT_MOB_DR','AMT_L_DR','AVG_AMT_PER_ATM_TXN',\n",
    "  'AVG_AMT_PER_CSH_WDL_TXN','AVG_AMT_PER_CHQ_TXN','AVG_AMT_PER_NET_TXN','AVG_AMT_PER_ATM_TXN'])"
   ]
  },
  {
   "cell_type": "code",
   "execution_count": 20,
   "metadata": {},
   "outputs": [
    {
     "data": {
      "text/plain": [
       "<matplotlib.axes._subplots.AxesSubplot at 0x1b6632906a0>"
      ]
     },
     "execution_count": 20,
     "metadata": {},
     "output_type": "execute_result"
    },
    {
     "data": {
      "image/png": "[encoded data removed]",
      "text/plain": [
       "<Figure size 432x288 with 1 Axes>"
      ]
     },
     "metadata": {},
     "output_type": "display_data"
    }
   ],
   "source": [
    "sns.boxplot(df['BALANCE'])"
   ]
  },
  {
   "cell_type": "code",
   "execution_count": 22,
   "metadata": {},
   "outputs": [],
   "source": [
    "# Since the domain is banking domain, and the outliers are only present in money and transaction related columns,\n",
    "# we will keep the outliers and proceed further"
   ]
  },
  {
   "cell_type": "code",
   "execution_count": 23,
   "metadata": {},
   "outputs": [],
   "source": [
    "df['GENDER'] = df['GENDER'].astype('category')\n",
    "df['OCCUPATION'] = df['OCCUPATION'].astype('category')\n",
    "df['ACC_TYPE'] = df['ACC_TYPE'].astype('category')\n",
    "df['FLG_HAS_CC'] = df['FLG_HAS_CC'].astype('category')\n",
    "df['FLG_HAS_ANY_CHGS'] = df['FLG_HAS_ANY_CHGS'].astype('category')\n",
    "df['FLG_HAS_NOMINEE'] = df['FLG_HAS_NOMINEE'].astype('category')\n",
    "df['FLG_HAS_OLD_LOAN'] = df['FLG_HAS_OLD_LOAN'].astype('category')\n",
    "df['TARGET'] = df['TARGET'].astype('category')"
   ]
  },
  {
   "cell_type": "code",
   "execution_count": 24,
   "metadata": {},
   "outputs": [
    {
     "data": {
      "image/png": "[encoded data removed]",
      "text/plain": [
       "<Figure size 432x288 with 1 Axes>"
      ]
     },
     "metadata": {},
     "output_type": "display_data"
    }
   ],
   "source": [
    "# EDA\n",
    "\n",
    "plt.hist(x = df['AGE'],rwidth=0.9)\n",
    "plt.show()"
   ]
  },
  {
   "cell_type": "code",
   "execution_count": 25,
   "metadata": {},
   "outputs": [
    {
     "data": {
      "image/png": "[encoded data removed]",
      "text/plain": [
       "<Figure size 432x288 with 1 Axes>"
      ]
     },
     "metadata": {},
     "output_type": "display_data"
    }
   ],
   "source": [
    "plt.hist(x = df['HOLDING_PERIOD'],rwidth=0.9,bins=10)\n",
    "plt.show()"
   ]
  },
  {
   "cell_type": "code",
   "execution_count": 26,
   "metadata": {},
   "outputs": [
    {
     "data": {
      "image/png": "[encoded data removed]",
      "text/plain": [
       "<Figure size 432x288 with 1 Axes>"
      ]
     },
     "metadata": {},
     "output_type": "display_data"
    }
   ],
   "source": [
    "plt.hist(x = df['LEN_OF_RLTN_IN_MNTH'],rwidth=0.9,bins=25)\n",
    "plt.show()"
   ]
  },
  {
   "cell_type": "code",
   "execution_count": 27,
   "metadata": {},
   "outputs": [
    {
     "data": {
      "image/png": "[encoded data removed]",
      "text/plain": [
       "<Figure size 432x288 with 1 Axes>"
      ]
     },
     "metadata": {},
     "output_type": "display_data"
    }
   ],
   "source": [
    "plt.hist(x = df['NO_OF_L_CR_TXNS'],rwidth=0.9,bins=20)\n",
    "plt.show()"
   ]
  },
  {
   "cell_type": "code",
   "execution_count": 28,
   "metadata": {},
   "outputs": [
    {
     "data": {
      "image/png": "[encoded data removed]",
      "text/plain": [
       "<Figure size 432x288 with 1 Axes>"
      ]
     },
     "metadata": {},
     "output_type": "display_data"
    }
   ],
   "source": [
    "plt.hist(x = df['NO_OF_L_DR_TXNS'],rwidth=0.9,bins=20)\n",
    "plt.show()"
   ]
  },
  {
   "cell_type": "code",
   "execution_count": 29,
   "metadata": {},
   "outputs": [],
   "source": [
    "#From the histograms we can see that\n",
    "#The frequency distribution for AGE shows that the targeted customers are highest in the age group between 26–30.\n",
    "#The Holding Period (Ability to hold money in the account) and \n",
    "# length of relationship with the bank are more or less evenly distributed.\n",
    "#The customers had most of their credit transactions in the range between 0–15 and debit transactions less than 10."
   ]
  },
  {
   "cell_type": "code",
   "execution_count": 30,
   "metadata": {},
   "outputs": [
    {
     "data": {
      "text/plain": [
       "<matplotlib.axes._subplots.AxesSubplot at 0x1b6641e4630>"
      ]
     },
     "execution_count": 30,
     "metadata": {},
     "output_type": "execute_result"
    },
    {
     "data": {
      "image/png": "[encoded data removed]",
      "text/plain": [
       "<Figure size 432x288 with 1 Axes>"
      ]
     },
     "metadata": {},
     "output_type": "display_data"
    }
   ],
   "source": [
    "sns.boxplot(x=df['AGE'])"
   ]
  },
  {
   "cell_type": "code",
   "execution_count": 31,
   "metadata": {},
   "outputs": [
    {
     "data": {
      "text/plain": [
       "<matplotlib.axes._subplots.AxesSubplot at 0x1b662717080>"
      ]
     },
     "execution_count": 31,
     "metadata": {},
     "output_type": "execute_result"
    },
    {
     "data": {
      "image/png": "[encoded data removed]",
      "text/plain": [
       "<Figure size 432x288 with 1 Axes>"
      ]
     },
     "metadata": {},
     "output_type": "display_data"
    }
   ],
   "source": [
    "sns.boxplot(x=df['HOLDING_PERIOD'])"
   ]
  },
  {
   "cell_type": "code",
   "execution_count": 32,
   "metadata": {},
   "outputs": [
    {
     "data": {
      "text/plain": [
       "<matplotlib.axes._subplots.AxesSubplot at 0x1b6641eeb00>"
      ]
     },
     "execution_count": 32,
     "metadata": {},
     "output_type": "execute_result"
    },
    {
     "data": {
      "image/png": "[encoded data removed]",
      "text/plain": [
       "<Figure size 432x288 with 1 Axes>"
      ]
     },
     "metadata": {},
     "output_type": "display_data"
    }
   ],
   "source": [
    "sns.boxplot(x=df['LEN_OF_RLTN_IN_MNTH'])"
   ]
  },
  {
   "cell_type": "code",
   "execution_count": 33,
   "metadata": {},
   "outputs": [
    {
     "data": {
      "text/plain": [
       "<matplotlib.axes._subplots.AxesSubplot at 0x1b663b42828>"
      ]
     },
     "execution_count": 33,
     "metadata": {},
     "output_type": "execute_result"
    },
    {
     "data": {
      "image/png": "[encoded data removed]",
      "text/plain": [
       "<Figure size 432x288 with 1 Axes>"
      ]
     },
     "metadata": {},
     "output_type": "display_data"
    }
   ],
   "source": [
    "sns.boxplot(x=df['NO_OF_L_CR_TXNS'])"
   ]
  },
  {
   "cell_type": "code",
   "execution_count": 34,
   "metadata": {},
   "outputs": [
    {
     "data": {
      "text/plain": [
       "<matplotlib.axes._subplots.AxesSubplot at 0x1b664235630>"
      ]
     },
     "execution_count": 34,
     "metadata": {},
     "output_type": "execute_result"
    },
    {
     "data": {
      "image/png": "[encoded data removed]",
      "text/plain": [
       "<Figure size 432x288 with 1 Axes>"
      ]
     },
     "metadata": {},
     "output_type": "display_data"
    }
   ],
   "source": [
    "sns.boxplot(x=df['NO_OF_L_DR_TXNS'])"
   ]
  },
  {
   "cell_type": "code",
   "execution_count": 35,
   "metadata": {},
   "outputs": [],
   "source": [
    "# From the box plots, we can visualize and infer:\n",
    "\n",
    "# Box plot shows the following median values for the numeric variables: \n",
    "# age around 38 years, holding period i.e. ability to hold money in the account of 15 months, \n",
    "# Length of relationship with bank at 125 months, No. of credit transactions 10, and no. of debit transactions = 5.\n",
    "\n",
    "# There are many outliers for the variables no. of credit transactions and no. of debit transactions."
   ]
  },
  {
   "cell_type": "code",
   "execution_count": 36,
   "metadata": {},
   "outputs": [
    {
     "data": {
      "text/plain": [
       "<matplotlib.axes._subplots.AxesSubplot at 0x1b6641eec88>"
      ]
     },
     "execution_count": 36,
     "metadata": {},
     "output_type": "execute_result"
    },
    {
     "data": {
      "image/png": "[encoded data removed]",
      "text/plain": [
       "<Figure size 432x288 with 1 Axes>"
      ]
     },
     "metadata": {},
     "output_type": "display_data"
    }
   ],
   "source": [
    "sns.countplot(x='GENDER',data=df) # O - Male, 1 - Female 2 - Others"
   ]
  },
  {
   "cell_type": "code",
   "execution_count": 37,
   "metadata": {},
   "outputs": [
    {
     "data": {
      "text/plain": [
       "<matplotlib.axes._subplots.AxesSubplot at 0x1b663a3a128>"
      ]
     },
     "execution_count": 37,
     "metadata": {},
     "output_type": "execute_result"
    },
    {
     "data": {
      "image/png": "[encoded data removed]",
      "text/plain": [
       "<Figure size 432x288 with 1 Axes>"
      ]
     },
     "metadata": {},
     "output_type": "display_data"
    }
   ],
   "source": [
    "sns.countplot(x='OCCUPATION',data=df) # SAL - 0, PROF - 1, SENP - 2, SELF-EMP - 3"
   ]
  },
  {
   "cell_type": "code",
   "execution_count": 38,
   "metadata": {},
   "outputs": [
    {
     "data": {
      "text/plain": [
       "<matplotlib.axes._subplots.AxesSubplot at 0x1b664131e80>"
      ]
     },
     "execution_count": 38,
     "metadata": {},
     "output_type": "execute_result"
    },
    {
     "data": {
      "image/png": "[encoded data removed]",
      "text/plain": [
       "<Figure size 432x288 with 1 Axes>"
      ]
     },
     "metadata": {},
     "output_type": "display_data"
    }
   ],
   "source": [
    "sns.countplot(x='FLG_HAS_CC',data=df)"
   ]
  },
  {
   "cell_type": "code",
   "execution_count": 39,
   "metadata": {},
   "outputs": [
    {
     "data": {
      "text/plain": [
       "<matplotlib.axes._subplots.AxesSubplot at 0x1b66426b668>"
      ]
     },
     "execution_count": 39,
     "metadata": {},
     "output_type": "execute_result"
    },
    {
     "data": {
      "image/png": "[encoded data removed]",
      "text/plain": [
       "<Figure size 432x288 with 1 Axes>"
      ]
     },
     "metadata": {},
     "output_type": "display_data"
    }
   ],
   "source": [
    "sns.countplot(x='FLG_HAS_NOMINEE',data=df)"
   ]
  },
  {
   "cell_type": "code",
   "execution_count": 40,
   "metadata": {},
   "outputs": [
    {
     "data": {
      "text/plain": [
       "<matplotlib.axes._subplots.AxesSubplot at 0x1b6642b8d68>"
      ]
     },
     "execution_count": 40,
     "metadata": {},
     "output_type": "execute_result"
    },
    {
     "data": {
      "image/png": "[encoded data removed]",
      "text/plain": [
       "<Figure size 432x288 with 1 Axes>"
      ]
     },
     "metadata": {},
     "output_type": "display_data"
    }
   ],
   "source": [
    "sns.countplot(x='FLG_HAS_OLD_LOAN',data=df)"
   ]
  },
  {
   "cell_type": "code",
   "execution_count": 41,
   "metadata": {},
   "outputs": [
    {
     "data": {
      "text/plain": [
       "<matplotlib.axes._subplots.AxesSubplot at 0x1b664317828>"
      ]
     },
     "execution_count": 41,
     "metadata": {},
     "output_type": "execute_result"
    },
    {
     "data": {
      "image/png": "[encoded data removed]",
      "text/plain": [
       "<Figure size 432x288 with 1 Axes>"
      ]
     },
     "metadata": {},
     "output_type": "display_data"
    }
   ],
   "source": [
    "sns.countplot(x='FLG_HAS_ANY_CHGS',data=df)"
   ]
  },
  {
   "cell_type": "code",
   "execution_count": 42,
   "metadata": {},
   "outputs": [
    {
     "data": {
      "text/plain": [
       "<matplotlib.axes._subplots.AxesSubplot at 0x1b664363400>"
      ]
     },
     "execution_count": 42,
     "metadata": {},
     "output_type": "execute_result"
    },
    {
     "data": {
      "image/png": "[encoded data removed]",
      "text/plain": [
       "<Figure size 432x288 with 1 Axes>"
      ]
     },
     "metadata": {},
     "output_type": "display_data"
    }
   ],
   "source": [
    "sns.countplot(x='ACC_TYPE',data=df) # SA - 0, CA - 1"
   ]
  },
  {
   "cell_type": "code",
   "execution_count": 43,
   "metadata": {},
   "outputs": [
    {
     "data": {
      "text/plain": [
       "<matplotlib.axes._subplots.AxesSubplot at 0x1b6643b0ef0>"
      ]
     },
     "execution_count": 43,
     "metadata": {},
     "output_type": "execute_result"
    },
    {
     "data": {
      "image/png": "[encoded data removed]",
      "text/plain": [
       "<Figure size 432x288 with 1 Axes>"
      ]
     },
     "metadata": {},
     "output_type": "display_data"
    }
   ],
   "source": [
    "sns.countplot(x='TARGET',data=df) # 0 - Not Responded, 1 - Responded for Personal Loan"
   ]
  },
  {
   "cell_type": "code",
   "execution_count": 44,
   "metadata": {},
   "outputs": [],
   "source": [
    "# We can infer from the bar plots that\n",
    "# Nearly 3/4th of the customers targeted in the loan campaign belonged to male gender.\n",
    "# Salaried and Professional class form majority of the targeted customers.\n",
    "# A quarter of the customers had a credit card\n",
    "# equal proportion of customers in the dataset have an old loan or did not have one.\n",
    "# More number of customers have savings account"
   ]
  },
  {
   "cell_type": "code",
   "execution_count": 45,
   "metadata": {},
   "outputs": [
    {
     "data": {
      "text/plain": [
       "<matplotlib.axes._subplots.AxesSubplot at 0x1b6643f2d30>"
      ]
     },
     "execution_count": 45,
     "metadata": {},
     "output_type": "execute_result"
    },
    {
     "data": {
      "image/png": "[encoded data removed]",
      "text/plain": [
       "<Figure size 432x288 with 1 Axes>"
      ]
     },
     "metadata": {},
     "output_type": "display_data"
    }
   ],
   "source": [
    "sns.boxplot(x='TARGET',y='AGE',data=df)"
   ]
  },
  {
   "cell_type": "code",
   "execution_count": 46,
   "metadata": {},
   "outputs": [
    {
     "data": {
      "text/plain": [
       "<matplotlib.axes._subplots.AxesSubplot at 0x1b66446fa58>"
      ]
     },
     "execution_count": 46,
     "metadata": {},
     "output_type": "execute_result"
    },
    {
     "data": {
      "image/png": "[encoded data removed]",
      "text/plain": [
       "<Figure size 432x288 with 1 Axes>"
      ]
     },
     "metadata": {},
     "output_type": "display_data"
    }
   ],
   "source": [
    "sns.boxplot(x='TARGET',y='LEN_OF_RLTN_IN_MNTH',data=df)"
   ]
  },
  {
   "cell_type": "code",
   "execution_count": 47,
   "metadata": {},
   "outputs": [
    {
     "data": {
      "text/plain": [
       "<matplotlib.axes._subplots.AxesSubplot at 0x1b6644d4be0>"
      ]
     },
     "execution_count": 47,
     "metadata": {},
     "output_type": "execute_result"
    },
    {
     "data": {
      "image/png": "[encoded data removed]",
      "text/plain": [
       "<Figure size 432x288 with 1 Axes>"
      ]
     },
     "metadata": {},
     "output_type": "display_data"
    }
   ],
   "source": [
    "sns.boxplot(x='TARGET',y='HOLDING_PERIOD',data=df)"
   ]
  },
  {
   "cell_type": "code",
   "execution_count": 48,
   "metadata": {},
   "outputs": [],
   "source": [
    "# When we look at the data visualization from bivariate analysis of numeric variables \n",
    "# against the categorical target variable, we get the following insights:\n",
    "# AGE vs Target (TARGET: responded to loan campaign = 1; Did not respond to loan campaign = 0)\n",
    "# The median age of customers who responded to the campaign is slightly higher than the age of those who didn’t respond. \n",
    "# There is not much differentiation though between the two classes based on Age, an inference we also draw from \n",
    "# Length of Relationship with Bank in Months vs TARGET class.\n",
    "# Customers who had lesser median holding period (Ability to hold money in the account) \n",
    "# of around 10 months are the ones who had responded to the personal loan campaign."
   ]
  },
  {
   "cell_type": "code",
   "execution_count": 49,
   "metadata": {},
   "outputs": [],
   "source": [
    "# plt.stackplot(x='GENDER',y='TARGET',)"
   ]
  },
  {
   "cell_type": "code",
   "execution_count": 50,
   "metadata": {},
   "outputs": [],
   "source": [
    "# Split x and y\n",
    "x = df.drop('TARGET',axis = 1)\n",
    "y = df['TARGET']"
   ]
  },
  {
   "cell_type": "code",
   "execution_count": 51,
   "metadata": {},
   "outputs": [],
   "source": [
    "# Split into train and test\n",
    "\n",
    "x_std = preprocessing.StandardScaler().fit_transform(x)\n",
    "x_train,x_test,y_train,y_test = train_test_split(x,y,test_size=0.3,random_state=0)\n",
    "x_train1,x_test1,y_train1,y_test1 = train_test_split(x_std,y,test_size=0.3,random_state=0)"
   ]
  },
  {
   "cell_type": "code",
   "execution_count": 52,
   "metadata": {},
   "outputs": [],
   "source": [
    "# Instantiating the classification models\n",
    "\n",
    "log_model = LogisticRegression()\n",
    "gini_model = DecisionTreeClassifier(max_depth=5)\n",
    "ent_model = DecisionTreeClassifier(max_depth=5,criterion='entropy')\n",
    "knn_model = KNeighborsClassifier()\n",
    "nbg_model = GaussianNB()\n",
    "nbb_model = BernoulliNB()\n",
    "nbm_model = MultinomialNB()\n",
    "rf_gini_model = RandomForestClassifier(n_estimators=10,max_depth=5,criterion='gini')\n",
    "rf_ent_model = RandomForestClassifier(n_estimators=10,max_depth=5,criterion='entropy')\n",
    "svm_model = SVC()"
   ]
  },
  {
   "cell_type": "code",
   "execution_count": 53,
   "metadata": {},
   "outputs": [],
   "source": [
    "models = []\n",
    "\n",
    "models.append(('Logistic Regression Model',log_model))\n",
    "models.append(('Decision Tree Model-Gini',gini_model))\n",
    "models.append(('Decision Tree Model-Entropy',ent_model))\n",
    "models.append(('KNN Model',knn_model))\n",
    "models.append(('Random Forest Model-Gini',rf_gini_model))\n",
    "models.append(('Random Forest Model-Entropy',rf_ent_model))\n",
    "models.append(('Naive Bayes Model-Gaussian',nbg_model))\n",
    "models.append(('Naive Bayes Model-Bernoulli',nbb_model))\n",
    "models.append(('Naive Bayes Model-Multinomial',nbm_model))\n",
    "models.append(('SVM Model',svm_model))"
   ]
  },
  {
   "cell_type": "code",
   "execution_count": 54,
   "metadata": {},
   "outputs": [
    {
     "name": "stdout",
     "output_type": "stream",
     "text": [
      "\n",
      "Logistic Regression Model:\n",
      "\n",
      "\t\t AUC Score: (0.566605) ,Bias Error: (0.433395) ,Variance Error: (0.000093) \n",
      "\n",
      "Decision Tree Model-Gini:\n",
      "\n",
      "\t\t AUC Score: (0.694741) ,Bias Error: (0.305259) ,Variance Error: (0.000050) \n",
      "\n",
      "Decision Tree Model-Entropy:\n",
      "\n",
      "\t\t AUC Score: (0.699420) ,Bias Error: (0.300580) ,Variance Error: (0.000137) \n",
      "\n",
      "KNN Model:\n",
      "\n",
      "\t\t AUC Score: (0.859539) ,Bias Error: (0.140461) ,Variance Error: (0.000044) \n",
      "\n",
      "Random Forest Model-Gini:\n",
      "\n",
      "\t\t AUC Score: (0.744639) ,Bias Error: (0.255361) ,Variance Error: (0.000204) \n",
      "\n",
      "Random Forest Model-Entropy:\n",
      "\n",
      "\t\t AUC Score: (0.753499) ,Bias Error: (0.246501) ,Variance Error: (0.000102) \n",
      "\n",
      "Naive Bayes Model-Gaussian:\n",
      "\n",
      "\t\t AUC Score: (0.617749) ,Bias Error: (0.382251) ,Variance Error: (0.000157) \n",
      "\n",
      "Naive Bayes Model-Bernoulli:\n",
      "\n",
      "\t\t AUC Score: (0.624721) ,Bias Error: (0.375279) ,Variance Error: (0.000516) \n",
      "\n",
      "Naive Bayes Model-Multinomial:\n",
      "\n",
      "\t\t AUC Score: (0.581509) ,Bias Error: (0.418491) ,Variance Error: (0.000056) \n",
      "\n",
      "SVM Model:\n",
      "\n",
      "\t\t AUC Score: (0.959654) ,Bias Error: (0.040346) ,Variance Error: (0.000010) \n"
     ]
    }
   ],
   "source": [
    "# Getting the AUC Scores, Bias and Variance errors\n",
    "\n",
    "from sklearn.model_selection import KFold\n",
    "from sklearn.model_selection import cross_val_score\n",
    "\n",
    "results = []\n",
    "names = []\n",
    "\n",
    "for name,model in models:\n",
    "    kfold = KFold(n_splits = 5, shuffle = True, random_state = 2)\n",
    "    if model == knn_model:\n",
    "        cv_results = cross_val_score(model,x_std,y,cv = kfold, scoring = 'roc_auc')\n",
    "    else:\n",
    "        cv_results = cross_val_score(model,x,y,cv = kfold, scoring = 'roc_auc')##scoring  = f1_weighted, scoring = 'recall'\n",
    "    results.append(cv_results)\n",
    "    names.append(name)\n",
    "    msg = '\\n%s:\\n\\n\\t\\t %s (%f) %s (%f) %s (%f) ' % (name,\"AUC Score:\",np.mean(cv_results),\",Bias Error:\",\n",
    "                                          1-np.mean(cv_results),\",Variance Error:\",np.var(cv_results, ddof = 1)) # \"f1score\"\n",
    "    print(msg)"
   ]
  },
  {
   "cell_type": "code",
   "execution_count": 55,
   "metadata": {},
   "outputs": [
    {
     "name": "stdout",
     "output_type": "stream",
     "text": [
      "Training Accuracy: Logistic Regression Model 0.8768571428571429\n",
      "Test Accuracy: Logistic Regression Model 0.8675\n",
      "Training Accuracy: Decision Tree Model-Gini 0.8846428571428572\n",
      "Test Accuracy: Decision Tree Model-Gini 0.8715\n",
      "Training Accuracy: Decision Tree Model-Entropy 0.8822857142857143\n",
      "Test Accuracy: Decision Tree Model-Entropy 0.8696666666666667\n",
      "Training Accuracy: KNN Model 0.9226428571428571\n",
      "Test Accuracy: KNN Model 0.8768333333333334\n",
      "Training Accuracy: Random Forest Model-Gini 0.8791428571428571\n",
      "Test Accuracy: Random Forest Model-Gini 0.8691666666666666\n",
      "Training Accuracy: Random Forest Model-Entropy 0.8775\n",
      "Test Accuracy: Random Forest Model-Entropy 0.868\n",
      "Training Accuracy: Naive Bayes Model-Gaussian 0.8168571428571428\n",
      "Test Accuracy: Naive Bayes Model-Gaussian 0.8078333333333333\n",
      "Training Accuracy: Naive Bayes Model-Bernoulli 0.7895\n",
      "Test Accuracy: Naive Bayes Model-Bernoulli 0.7831666666666667\n",
      "Training Accuracy: Naive Bayes Model-Multinomial 0.5876428571428571\n",
      "Test Accuracy: Naive Bayes Model-Multinomial 0.596\n",
      "Training Accuracy: SVM Model 1.0\n",
      "Test Accuracy: SVM Model 0.9573333333333334\n"
     ]
    }
   ],
   "source": [
    "# Printing the train and test accuracy for all the classification models\n",
    "\n",
    "for model in models:\n",
    "    \n",
    "    if model[1] == knn_model:\n",
    "        model[1].fit(x_train1,y_train1)\n",
    "        print('Training Accuracy:',model[0],model[1].score(x_train1,y_train1))\n",
    "        print('Test Accuracy:',model[0],model[1].score(x_test1,y_test1))\n",
    "    \n",
    "    else:\n",
    "        model[1].fit(x_train,y_train)\n",
    "        print('Training Accuracy:',model[0],model[1].score(x_train,y_train))\n",
    "        print('Test Accuracy:',model[0],model[1].score(x_test,y_test))"
   ]
  },
  {
   "cell_type": "code",
   "execution_count": 56,
   "metadata": {},
   "outputs": [],
   "source": [
    "# Getting the training and testing accuracy in a dataframe\n",
    "\n",
    "Accuracy_Scores=pd.DataFrame([[log_model.score(x_train,y_train),log_model.score(x_test,y_test)],\n",
    "                             [gini_model.score(x_train,y_train),gini_model.score(x_test,y_test)],\n",
    "                             [ent_model.score(x_train,y_train),ent_model.score(x_test,y_test)],\n",
    "                             [knn_model.score(x_train1,y_train1),knn_model.score(x_test1,y_test1)],\n",
    "                             [rf_gini_model.score(x_train,y_train),rf_gini_model.score(x_test,y_test)],\n",
    "                             [rf_ent_model.score(x_train,y_train),rf_ent_model.score(x_test,y_test)],\n",
    "                             [nbg_model.score(x_train,y_train),nbg_model.score(x_test,y_test)],\n",
    "                             [nbb_model.score(x_train,y_train),nbb_model.score(x_test,y_test)],\n",
    "                             [nbm_model.score(x_train,y_train),nbm_model.score(x_test,y_test)],\n",
    "                             [svm_model.score(x_train,y_train),svm_model.score(x_test,y_test)]],\n",
    "                             columns=[\"Training Accuracy\",\"Testing Accuracy\"]\n",
    "                               ,index= [\"Logistic Regression\",\"Decision Tree - Gini\",\n",
    "                                        \"Decision Tree - Entropy\",\"KNN Model\",\n",
    "                                     \"Random Forest Model - Gini\",\"Random Forest Model - Entropy\",\n",
    "                                        \"Naive Bayes - Gaussian\",\"Naive Bayes - Bernoulli\",\n",
    "                                       \"Naive-Bayes - Multinomial\",\"SVM Model\"])"
   ]
  },
  {
   "cell_type": "code",
   "execution_count": 57,
   "metadata": {},
   "outputs": [
    {
     "data": {
      "text/html": [
       "<div>\n",
       "<style scoped>\n",
       "    .dataframe tbody tr th:only-of-type {\n",
       "        vertical-align: middle;\n",
       "    }\n",
       "\n",
       "    .dataframe tbody tr th {\n",
       "        vertical-align: top;\n",
       "    }\n",
       "\n",
       "    .dataframe thead th {\n",
       "        text-align: right;\n",
       "    }\n",
       "</style>\n",
       "<table border=\"1\" class=\"dataframe\">\n",
       "  <thead>\n",
       "    <tr style=\"text-align: right;\">\n",
       "      <th></th>\n",
       "      <th>Training Accuracy</th>\n",
       "      <th>Testing Accuracy</th>\n",
       "    </tr>\n",
       "  </thead>\n",
       "  <tbody>\n",
       "    <tr>\n",
       "      <th>Logistic Regression</th>\n",
       "      <td>0.876857</td>\n",
       "      <td>0.867500</td>\n",
       "    </tr>\n",
       "    <tr>\n",
       "      <th>Decision Tree - Gini</th>\n",
       "      <td>0.884643</td>\n",
       "      <td>0.871500</td>\n",
       "    </tr>\n",
       "    <tr>\n",
       "      <th>Decision Tree - Entropy</th>\n",
       "      <td>0.882286</td>\n",
       "      <td>0.869667</td>\n",
       "    </tr>\n",
       "    <tr>\n",
       "      <th>KNN Model</th>\n",
       "      <td>0.922643</td>\n",
       "      <td>0.876833</td>\n",
       "    </tr>\n",
       "    <tr>\n",
       "      <th>Random Forest Model - Gini</th>\n",
       "      <td>0.879143</td>\n",
       "      <td>0.869167</td>\n",
       "    </tr>\n",
       "    <tr>\n",
       "      <th>Random Forest Model - Entropy</th>\n",
       "      <td>0.877500</td>\n",
       "      <td>0.868000</td>\n",
       "    </tr>\n",
       "    <tr>\n",
       "      <th>Naive Bayes - Gaussian</th>\n",
       "      <td>0.816857</td>\n",
       "      <td>0.807833</td>\n",
       "    </tr>\n",
       "    <tr>\n",
       "      <th>Naive Bayes - Bernoulli</th>\n",
       "      <td>0.789500</td>\n",
       "      <td>0.783167</td>\n",
       "    </tr>\n",
       "    <tr>\n",
       "      <th>Naive-Bayes - Multinomial</th>\n",
       "      <td>0.587643</td>\n",
       "      <td>0.596000</td>\n",
       "    </tr>\n",
       "    <tr>\n",
       "      <th>SVM Model</th>\n",
       "      <td>1.000000</td>\n",
       "      <td>0.957333</td>\n",
       "    </tr>\n",
       "  </tbody>\n",
       "</table>\n",
       "</div>"
      ],
      "text/plain": [
       "                               Training Accuracy  Testing Accuracy\n",
       "Logistic Regression                     0.876857          0.867500\n",
       "Decision Tree - Gini                    0.884643          0.871500\n",
       "Decision Tree - Entropy                 0.882286          0.869667\n",
       "KNN Model                               0.922643          0.876833\n",
       "Random Forest Model - Gini              0.879143          0.869167\n",
       "Random Forest Model - Entropy           0.877500          0.868000\n",
       "Naive Bayes - Gaussian                  0.816857          0.807833\n",
       "Naive Bayes - Bernoulli                 0.789500          0.783167\n",
       "Naive-Bayes - Multinomial               0.587643          0.596000\n",
       "SVM Model                               1.000000          0.957333"
      ]
     },
     "execution_count": 57,
     "metadata": {},
     "output_type": "execute_result"
    }
   ],
   "source": [
    "Accuracy_Scores"
   ]
  },
  {
   "cell_type": "code",
   "execution_count": null,
   "metadata": {},
   "outputs": [],
   "source": [
    "# From the above dataframe, we can conclude that the testing accuracy obtained using SVM Model is better than other\n",
    "# classification models and using SVM Model we can predict the outcome of whether the customer accepts personal loan\n",
    "# or not much better and accurate."
   ]
  },
  {
   "cell_type": "code",
   "execution_count": null,
   "metadata": {},
   "outputs": [],
   "source": []
  }
 ],
 "metadata": {
  "kernelspec": {
   "display_name": "Python 3",
   "language": "python",
   "name": "python3"
  },
  "language_info": {
   "codemirror_mode": {
    "name": "ipython",
    "version": 3
   },
   "file_extension": ".py",
   "mimetype": "text/x-python",
   "name": "python",
   "nbconvert_exporter": "python",
   "pygments_lexer": "ipython3",
   "version": "3.7.3"
  }
 },
 "nbformat": 4,
 "nbformat_minor": 2
}
